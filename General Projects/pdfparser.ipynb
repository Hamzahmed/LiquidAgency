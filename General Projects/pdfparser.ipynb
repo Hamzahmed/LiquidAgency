{
 "cells": [
  {
   "cell_type": "code",
   "execution_count": 221,
   "metadata": {},
   "outputs": [],
   "source": [
    "\n",
    "import fitz\n",
    "from tika import parser\n",
    "import operator \n",
    "import pandas as pd\n"
   ]
  },
  {
   "cell_type": "code",
   "execution_count": 222,
   "metadata": {},
   "outputs": [],
   "source": [
    "CRKT_Instagram = ('/Users/hamza.ahmed/Coding Projects/Data/PDFS/CRKT_Instagram_Insights_Dashboard[32].pdf') \n",
    "Annual_Report_2021 = ('/Users/hamza.ahmed/Coding Projects/Data/PDFS/2021 Annual Report_FINAL.pdf')\n",
    "Reporting_Master = ('/Users/hamza.ahmed/Coding Projects/Data/PDFS/Reporting_Master.pdf')"
   ]
  },
  {
   "cell_type": "code",
   "execution_count": 223,
   "metadata": {},
   "outputs": [],
   "source": [
    "# def fonts(doc, granularity=False):\n",
    "#     \"\"\"Extracts fonts and their usage in PDF documents.\n",
    "#     :param doc: PDF document to iterate through\n",
    "#     :type doc: <class 'fitz.fitz.Document'>\n",
    "#     :param granularity: also use 'font', 'flags' and 'color' to discriminate text\n",
    "#     :type granularity: bool\n",
    "#     :rtype: [(font_size, count), (font_size, count}], dict\n",
    "#     :return: most used fonts sorted by count, font style information\n",
    "#     \"\"\"\n",
    "#     styles = {}\n",
    "#     font_counts = {}\n",
    "\n",
    "#     for page in doc:\n",
    "#         blocks = page.get_text(\"dict\")[\"blocks\"]\n",
    "#         for b in blocks:  # iterate through the text blocks\n",
    "#             if b['type'] == 0:  # block contains text\n",
    "#                 for l in b[\"lines\"]:  # iterate through the text lines\n",
    "#                     for s in l[\"spans\"]:  # iterate through the text spans\n",
    "#                         if granularity:\n",
    "#                             identifier = \"{0}_{1}_{2}_{3}\".format(s['size'], s['flags'], s['font'], s['color'])\n",
    "#                             styles[identifier] = {'size': s['size'], 'flags': s['flags'], 'font': s['font'],\n",
    "#                                                   'color': s['color']}\n",
    "#                         else:\n",
    "#                             identifier = \"{0}\".format(s['size'])\n",
    "#                             styles[identifier] = {'size': s['size'], 'font': s['font']}\n",
    "\n",
    "#                         font_counts[identifier] = font_counts.get(identifier, 0) + 1  # count the fonts usage\n",
    "\n",
    "#     font_counts = sorted(font_counts.items(), key=operator.itemgetter(1), reverse=True)\n",
    "\n",
    "#     if len(font_counts) < 1:\n",
    "#         raise ValueError(\"Zero discriminating fonts found!\")\n",
    "\n",
    "#     return font_counts, styles"
   ]
  },
  {
   "cell_type": "code",
   "execution_count": 46,
   "metadata": {},
   "outputs": [],
   "source": [
    "# CRKT_Instagram = parser.from_file('/Users/hamza.ahmed/Coding Projects/Data/PDFS/CRKT_Instagram_Insights_Dashboard[32].pdf') \n",
    "# Annual_Report_2021 = parser.from_file('/Users/hamza.ahmed/Coding Projects/Data/PDFS/2021 Annual Report_FINAL.pdf')\n",
    "# Reporting_Master = parser.from_file('/Users/hamza.ahmed/Coding Projects/Data/PDFS/Reporting_Master.pdf')"
   ]
  },
  {
   "cell_type": "code",
   "execution_count": 244,
   "metadata": {},
   "outputs": [],
   "source": [
    "import fitz\n",
    "\n",
    "\n",
    "def flags_decomposer(flags):\n",
    "    \"\"\"Make font flags human readable.\"\"\"\n",
    "    l = []\n",
    "    if flags & 2 ** 0:\n",
    "        l.append(\"superscript\")\n",
    "    if flags & 2 ** 1:\n",
    "        l.append(\"italic\")\n",
    "    if flags & 2 ** 2:\n",
    "        l.append(\"serifed\")\n",
    "    else:\n",
    "        l.append(\"sans\")\n",
    "    if flags & 2 ** 3:\n",
    "        l.append(\"monospaced\")\n",
    "    else:\n",
    "        l.append(\"proportional\")\n",
    "    if flags & 2 ** 4:\n",
    "        l.append(\"bold\")\n",
    "    return \", \".join(l)\n",
    "\n",
    "font_property = {}\n",
    "doc = fitz.open(Reporting_Master)\n",
    "for page in doc:\n",
    "    # read page text as a dictionary, suppressing extra spaces in CJK fonts\n",
    "    blocks = page.get_text(\"dict\", flags=11)[\"blocks\"]\n",
    "    for b in blocks:  # iterate through the text blocks\n",
    "        for l in b[\"lines\"]:  # iterate through the text lines\n",
    "            for s in l[\"spans\"]:  # iterate through the text spans\n",
    "                #print(\"\")\n",
    "                font_properties = \"'%s' (%s), size %g, color #%06x\" % (\n",
    "                    s[\"font\"],  # font name\n",
    "                    flags_decomposer(s[\"flags\"]),  # readable font flags\n",
    "                    s[\"size\"],  # font size\n",
    "                    s[\"color\"],  # font color\n",
    "                )\n",
    "                text = '%s' % s[\"text\"]  # simple print of text\n",
    "                #print(font_properties)\n",
    "                x = dict ([(text, font_properties)])\n",
    "                font_property.update(x)"
   ]
  },
  {
   "cell_type": "code",
   "execution_count": 239,
   "metadata": {},
   "outputs": [],
   "source": [
    "title_font=\"'Calibri-Italic' (italic, sans, proportional), size 9, color #000000\"\n"
   ]
  },
  {
   "cell_type": "code",
   "execution_count": 240,
   "metadata": {},
   "outputs": [],
   "source": [
    "data = []\n",
    "for key, value in font_property.items():\n",
    "    if value == title_font:\n",
    "        data.append(key)\n",
    "        "
   ]
  },
  {
   "cell_type": "code",
   "execution_count": 241,
   "metadata": {},
   "outputs": [],
   "source": [
    "df = pd.DataFrame(data)"
   ]
  },
  {
   "cell_type": "code",
   "execution_count": 242,
   "metadata": {},
   "outputs": [],
   "source": [
    "pd.set_option('display.max_rows', None)\n"
   ]
  },
  {
   "cell_type": "code",
   "execution_count": 243,
   "metadata": {},
   "outputs": [
    {
     "data": {
      "text/html": [
       "<div>\n",
       "<style scoped>\n",
       "    .dataframe tbody tr th:only-of-type {\n",
       "        vertical-align: middle;\n",
       "    }\n",
       "\n",
       "    .dataframe tbody tr th {\n",
       "        vertical-align: top;\n",
       "    }\n",
       "\n",
       "    .dataframe thead th {\n",
       "        text-align: right;\n",
       "    }\n",
       "</style>\n",
       "<table border=\"1\" class=\"dataframe\">\n",
       "  <thead>\n",
       "    <tr style=\"text-align: right;\">\n",
       "      <th></th>\n",
       "      <th>0</th>\n",
       "    </tr>\n",
       "  </thead>\n",
       "  <tbody>\n",
       "    <tr>\n",
       "      <th>0</th>\n",
       "      <td>Source: Magento. Some accessories have been</td>\n",
       "    </tr>\n",
       "    <tr>\n",
       "      <th>1</th>\n",
       "      <td>removed to reflect in-line knife and tool releases.</td>\n",
       "    </tr>\n",
       "  </tbody>\n",
       "</table>\n",
       "</div>"
      ],
      "text/plain": [
       "                                                       0\n",
       "0  Source: Magento. Some accessories have been          \n",
       "1  removed to reflect in-line knife and tool releases.  "
      ]
     },
     "execution_count": 243,
     "metadata": {},
     "output_type": "execute_result"
    }
   ],
   "source": [
    "df"
   ]
  }
 ],
 "metadata": {
  "interpreter": {
   "hash": "5edc29c2ed010d6458d71a83433b383a96a8cbd3efe8531bc90c4b8a5b8bcec9"
  },
  "kernelspec": {
   "display_name": "Python 3.8.9 64-bit",
   "language": "python",
   "name": "python3"
  },
  "language_info": {
   "codemirror_mode": {
    "name": "ipython",
    "version": 3
   },
   "file_extension": ".py",
   "mimetype": "text/x-python",
   "name": "python",
   "nbconvert_exporter": "python",
   "pygments_lexer": "ipython3",
   "version": "3.8.9"
  },
  "orig_nbformat": 4
 },
 "nbformat": 4,
 "nbformat_minor": 2
}
