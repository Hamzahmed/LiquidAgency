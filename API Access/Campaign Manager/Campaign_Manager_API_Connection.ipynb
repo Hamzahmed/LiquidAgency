{
 "cells": [
  {
   "cell_type": "code",
   "execution_count": 355,
   "metadata": {},
   "outputs": [],
   "source": [
    "\n",
    "import oauth2client\n",
    "from oauth2client.client import GoogleCredentials\n",
    "from oauth2client import client\n",
    "from oauth2client.client import flow_from_clientsecrets\n",
    "from oauth2client import file\n",
    "from oauth2client import tools\n",
    "from googleapiclient import discovery\n",
    "from googleapiclient import errors\n",
    "from google_auth_oauthlib import flow\n",
    "import google_auth_httplib2\n",
    "import httplib2\n",
    "import urllib.request\n",
    "import time\n",
    "import os\n",
    "import io\n",
    "from io import StringIO\n",
    "import numpy as np\n",
    "from googleapiclient.http import MediaIoBaseDownload\n",
    "import pandas as pd\n",
    "import json"
   ]
  },
  {
   "cell_type": "code",
   "execution_count": 356,
   "metadata": {},
   "outputs": [],
   "source": [
    "OAUTH_SCOPES = (\"https://www.googleapis.com/auth/dfareporting \" + \"https://www.googleapis.com/auth/dfatrafficking \" + \"https://www.googleapis.com/auth/ddmconversions \")"
   ]
  },
  {
   "cell_type": "code",
   "execution_count": 357,
   "metadata": {},
   "outputs": [],
   "source": [
    "# Set up a Flow object to be used if we need to authenticate.\n",
    "flow = client.flow_from_clientsecrets(\n",
    "    \"/Users/hamza.ahmed/Coding Projects/Python Apps Authentications/Campaign Manager/client_secret.json\", scope = OAUTH_SCOPES, \n",
    "    redirect_uri = \"urn:ietf:wg:oauth:2.0:oob\")\n",
    "\n",
    "storage = oauth2client.file.Storage('/Users/hamza.ahmed/Coding Projects/Python Apps Authentications/Campaign Manager/credentials.dat')\n",
    "credentials = storage.get()\n",
    "\n",
    "if credentials is None or credentials.invalid:\n",
    "  credentials = tools.run_flow(flow, storage,\n",
    "                               tools.argparser.parse_known_args()[0])\n",
    "http = credentials.authorize(httplib2.Http())\n",
    "\n",
    "\n",
    "service = discovery.build('dfareporting', 'v3.5', http=http)"
   ]
  },
  {
   "cell_type": "code",
   "execution_count": 358,
   "metadata": {},
   "outputs": [
    {
     "name": "stdout",
     "output_type": "stream",
     "text": [
      "Found user profile with ID 7323797 and user name \"hamza.ahmed\".\n"
     ]
    }
   ],
   "source": [
    "request = service.userProfiles().list()\n",
    "response = request.execute()\n",
    "\n",
    "for profile in response['items']:\n",
    "  print('Found user profile with ID %s and user name \"%s\".' %\n",
    "        (profile['profileId'], profile['userName']))"
   ]
  },
  {
   "cell_type": "code",
   "execution_count": 359,
   "metadata": {},
   "outputs": [],
   "source": [
    "AllReportIds = []\n",
    "report_names_ = []\n",
    "\n",
    "# Construct the request.\n",
    "request = service.reports().list(profileId= 7323797, scope = \"ALL\")\n",
    "\n",
    "response = request.execute()\n",
    "\n",
    "for report in response['items']:\n",
    "  AllReportIds.append(report['id'])\n",
    "  report_names_.append(report['name'])"
   ]
  },
  {
   "cell_type": "code",
   "execution_count": 360,
   "metadata": {},
   "outputs": [
    {
     "data": {
      "text/plain": [
       "['932474551',\n",
       " '931935343',\n",
       " '840586381',\n",
       " '870632981',\n",
       " '905182599',\n",
       " '930116908',\n",
       " '872963562',\n",
       " '872963704',\n",
       " '927501164',\n",
       " '924658802']"
      ]
     },
     "execution_count": 360,
     "metadata": {},
     "output_type": "execute_result"
    }
   ],
   "source": [
    "AllReportIds"
   ]
  },
  {
   "cell_type": "code",
   "execution_count": 361,
   "metadata": {},
   "outputs": [],
   "source": [
    "  # report_file = service.files().get(\n",
    "  #     reportId=870632981, fileId=3629104741).execute()\n",
    "  # report_file"
   ]
  },
  {
   "cell_type": "code",
   "execution_count": 362,
   "metadata": {},
   "outputs": [],
   "source": [
    "#  def tokenize(str):\n",
    "#     idx = [x for x, v in enumerate(str) if v == '\\\"']\n",
    "#     if len(idx) % 2 != 0:\n",
    "#         idx = idx[:-1]\n",
    "#     memory = {}\n",
    "#     for i in range(0, len(idx), 2):\n",
    "#         val = str[idx[i]:idx[i+1]+1]\n",
    "#         key = \"_\"*(len(val)-1)+\"{0}\".format(i)\n",
    "#         memory[key] = val\n",
    "#         str = str.replace(memory[key], key, 1)        \n",
    "#     return [memory.get(token, token) for token in str.split(\",\")]  "
   ]
  },
  {
   "cell_type": "code",
   "execution_count": 363,
   "metadata": {},
   "outputs": [],
   "source": [
    "# report_file['id']"
   ]
  },
  {
   "cell_type": "code",
   "execution_count": 364,
   "metadata": {},
   "outputs": [],
   "source": [
    "file_ids = []\n",
    "for ids in AllReportIds:\n",
    "    report_file = service.reports().run(\n",
    "        profileId=7323797, reportId=ids).execute()\n",
    "    file_ids.append(report_file['id'])"
   ]
  },
  {
   "cell_type": "code",
   "execution_count": 365,
   "metadata": {},
   "outputs": [
    {
     "data": {
      "text/plain": [
       "['3636654011',\n",
       " '3636654012',\n",
       " '3636654013',\n",
       " '3636653946',\n",
       " '3636653950',\n",
       " '3636654024',\n",
       " '3636653961',\n",
       " '3636653964',\n",
       " '3636654032',\n",
       " '3636654101']"
      ]
     },
     "execution_count": 365,
     "metadata": {},
     "output_type": "execute_result"
    }
   ],
   "source": [
    "file_ids"
   ]
  },
  {
   "cell_type": "code",
   "execution_count": 366,
   "metadata": {},
   "outputs": [
    {
     "data": {
      "text/plain": [
       "['Untitled Report',\n",
       " 'Datorama Delivery Report: 3632067',\n",
       " 'Varicent 2022',\n",
       " 'JumpCloud',\n",
       " 'Datorama Delivery Report: 3632067',\n",
       " 'Datorama Delivery Report: 3632067',\n",
       " 'Adjuster_Report_Do_Not_Modify_19957',\n",
       " 'Adjuster_Report_Do_Not_Modify_19957',\n",
       " 'Datorama Delivery Report: 3632067',\n",
       " 'Untitled Report']"
      ]
     },
     "execution_count": 366,
     "metadata": {},
     "output_type": "execute_result"
    }
   ],
   "source": [
    "report_names_"
   ]
  },
  {
   "cell_type": "code",
   "execution_count": null,
   "metadata": {},
   "outputs": [],
   "source": []
  },
  {
   "cell_type": "code",
   "execution_count": 368,
   "metadata": {},
   "outputs": [
    {
     "data": {
      "text/plain": [
       "10"
      ]
     },
     "execution_count": 368,
     "metadata": {},
     "output_type": "execute_result"
    }
   ],
   "source": [
    "len(report_names_)"
   ]
  },
  {
   "cell_type": "code",
   "execution_count": 325,
   "metadata": {},
   "outputs": [],
   "source": [
    "# Prepare a local file to download the report contents to.\n",
    "\n",
    "# for names,reportids in zip(report_names_, AllReportIds): \n",
    "#     out_file = io.FileIO(f'{names}_{reportids}', mode='wb')"
   ]
  },
  {
   "cell_type": "code",
   "execution_count": 326,
   "metadata": {},
   "outputs": [],
   "source": [
    "request = service.files().get_media(reportId=932474551, fileId=3635928262).execute()"
   ]
  },
  {
   "cell_type": "code",
   "execution_count": null,
   "metadata": {},
   "outputs": [],
   "source": []
  },
  {
   "cell_type": "code",
   "execution_count": 369,
   "metadata": {},
   "outputs": [
    {
     "data": {
      "text/plain": [
       "[('3636654011', '932474551'),\n",
       " ('3636654012', '931935343'),\n",
       " ('3636654013', '840586381'),\n",
       " ('3636653946', '870632981'),\n",
       " ('3636653950', '905182599'),\n",
       " ('3636654024', '930116908'),\n",
       " ('3636653961', '872963562'),\n",
       " ('3636653964', '872963704'),\n",
       " ('3636654032', '927501164'),\n",
       " ('3636654101', '924658802')]"
      ]
     },
     "execution_count": 369,
     "metadata": {},
     "output_type": "execute_result"
    }
   ],
   "source": [
    "list(zip(file_ids, AllReportIds))"
   ]
  },
  {
   "cell_type": "code",
   "execution_count": 372,
   "metadata": {},
   "outputs": [
    {
     "name": "stdout",
     "output_type": "stream",
     "text": [
      "Not found\n"
     ]
    }
   ],
   "source": [
    "All_requests_files = []\n",
    "for fileids, reportids in list(zip(file_ids, AllReportIds)):\n",
    "    request = service.files().get_media(reportId=reportids, fileId=fileids)\n",
    "    if request is not None:\n",
    "        try:\n",
    "            r = request.execute()\n",
    "        except errors.HttpError:\n",
    "            print('Not found')\n",
    "    All_requests_files.append(r)\n",
    "\n"
   ]
  },
  {
   "cell_type": "code",
   "execution_count": 373,
   "metadata": {},
   "outputs": [
    {
     "data": {
      "text/plain": [
       "10"
      ]
     },
     "execution_count": 373,
     "metadata": {},
     "output_type": "execute_result"
    }
   ],
   "source": [
    "len(All_requests_files)"
   ]
  },
  {
   "cell_type": "code",
   "execution_count": null,
   "metadata": {},
   "outputs": [],
   "source": []
  },
  {
   "cell_type": "code",
   "execution_count": 375,
   "metadata": {},
   "outputs": [],
   "source": [
    "datum = []\n",
    "dataframes = []\n",
    "for request_files in All_requests_files:  \n",
    "    result = str(request_files, 'utf-8')  \n",
    "    data = StringIO(result)\n",
    "    datum.append(data)\n",
    "    lines = list(map(lambda x: tokenize(x.strip()), data))\n",
    "    df = pd.DataFrame(lines).replace(np.nan, '')\n",
    "    dataframes.append(df)"
   ]
  },
  {
   "cell_type": "code",
   "execution_count": 376,
   "metadata": {},
   "outputs": [],
   "source": [
    "import os\n",
    "\n",
    "folderpath = \"/Users/hamza.ahmed/Coding Projects/Data/Campaign Manager Data\"\n",
    "csv = 'csv'  # output file type\n",
    "for i, df in enumerate(dataframes, 1):\n",
    "    filename = \"df_{}.{}\".format(i, csv)\n",
    "    filepath = os.path.join(folderpath, filename)\n",
    "    df.to_csv(filepath)"
   ]
  },
  {
   "cell_type": "code",
   "execution_count": 356,
   "metadata": {},
   "outputs": [],
   "source": [
    "import numpy as np\n",
    "s=str(request,'utf-8')\n",
    "\n",
    "data = StringIO(s) \n",
    "\n",
    "# df=pd.read_csv(data, delimiter=\"/n\", header=None)\n",
    "df.to_csv('out.csv', encoding='utf-8')\n",
    "lines = list(map(lambda x: tokenize(x.strip()), data))\n",
    "df = pd.DataFrame(lines).replace(np.nan, '')\n",
    "df.to_csv('out.csv', encoding='utf-8')"
   ]
  },
  {
   "cell_type": "code",
   "execution_count": null,
   "metadata": {},
   "outputs": [],
   "source": []
  },
  {
   "cell_type": "code",
   "execution_count": 352,
   "metadata": {},
   "outputs": [],
   "source": [
    "# import os\n",
    "\n",
    "# folderpath = \"/Users/hamza.ahmed/Coding Projects/Data/Campaign Manager Data\"\n",
    "# def list_files(path):\n",
    "#     # returns a list of names (with extension, without full path) of all files \n",
    "#     # in folder path\n",
    "#     files = []\n",
    "#     for name in os.listdir(path):\n",
    "#         if os.path.isfile(os.path.join(path, name)):\n",
    "#             files.append(name)\n",
    "#     return files \n",
    "\n",
    "# All_Files = list_files(folderpath)\n"
   ]
  },
  {
   "cell_type": "code",
   "execution_count": 353,
   "metadata": {},
   "outputs": [
    {
     "data": {
      "text/plain": [
       "['Adjuster_Report_Do_Not_Modify_19957.csv',\n",
       " 'JumpCloud.csv',\n",
       " 'Datorama Delivery Report: 3632067.csv',\n",
       " 'Varicent 2022.csv',\n",
       " 'Untitled Report.csv']"
      ]
     },
     "execution_count": 353,
     "metadata": {},
     "output_type": "execute_result"
    }
   ],
   "source": [
    "# All_Files"
   ]
  },
  {
   "cell_type": "code",
   "execution_count": 350,
   "metadata": {},
   "outputs": [],
   "source": [
    "# for names, i in zip(report_names_, All_Files):\n",
    "#     os.rename(os.path.join(folderpath, i), os.path.join(folderpath,names +'.csv'))"
   ]
  },
  {
   "cell_type": "code",
   "execution_count": null,
   "metadata": {},
   "outputs": [],
   "source": []
  },
  {
   "cell_type": "code",
   "execution_count": 284,
   "metadata": {},
   "outputs": [],
   "source": [
    "# # Retrieve the file metadata.\n",
    "# for reportids, fileids in list(zip(AllReportIds, file_ids)):\n",
    "#       request = service.files().get_media(reportId=reportids, fileId=fileids)\n",
    "#       downloader =MediaIoBaseDownload(out_file, request)\n",
    "#       done = False\n",
    "#       while done is False:\n",
    "#             status, done = downloader.next_chunk()\n",
    "#       break \n",
    "\n",
    "      "
   ]
  },
  {
   "cell_type": "code",
   "execution_count": null,
   "metadata": {},
   "outputs": [],
   "source": []
  },
  {
   "cell_type": "code",
   "execution_count": 285,
   "metadata": {},
   "outputs": [],
   "source": [
    "# for x in range(0,10):\n",
    "#     print(All_report_files[x]['status'])\n"
   ]
  },
  {
   "cell_type": "code",
   "execution_count": 286,
   "metadata": {},
   "outputs": [],
   "source": [
    "# downloader =MediaIoBaseDownload(\n",
    "#       out_file, request)\n",
    "#          # Execute the get request and download the file.\n",
    "#       download_finished = False\n",
    "#       while download_finished is False:\n",
    "#          _, download_finished = downloader.next_chunk()\n",
    "\n",
    "#       print('File %s downloaded to %s' % (fileids,\n",
    "#                                           os.path.realpath(out_file.name)))\n"
   ]
  },
  {
   "cell_type": "code",
   "execution_count": 287,
   "metadata": {},
   "outputs": [],
   "source": [
    "# request = service.files().get_media(reportId=reportids, fileId=fileids)\n",
    "#       downloader =MediaIoBaseDownload(\n",
    "#       out_file, request)\n",
    "#          # Execute the get request and download the file.\n",
    "#       download_finished = False\n",
    "#       while download_finished is False:\n",
    "#          _, download_finished = downloader.next_chunk()\n",
    "\n",
    "#       print('File %s downloaded to %s' % (reportids,\n",
    "#                                           os.path.realpath(out_file.name)))"
   ]
  },
  {
   "cell_type": "code",
   "execution_count": 288,
   "metadata": {},
   "outputs": [],
   "source": [
    "# # # Retrieve the file metadata.\n",
    "# # report_file = service.files().get(\n",
    "# #     reportId=870632981, fileId=3630090510).execute()\n",
    "\n",
    "# # if report_file['status'] == 'REPORT_AVAILABLE':\n",
    "# #   # Prepare a local file to download the report contents to.\n",
    "# #   out_file = io.FileIO(\"poop.csv\", mode='wb')\n",
    "\n",
    "#   # Create a get request.\n",
    "#   request = service.files().get_media(reportId=870632981, fileId=3630090510)\n",
    "\n",
    "#   # Create a media downloader instance.\n",
    "#   # Optional: adjust the chunk size used when downloading the file.\n",
    "#   downloader =MediaIoBaseDownload(\n",
    "#       out_file, request)\n",
    "\n",
    "#   # Execute the get request and download the file.\n",
    "#   download_finished = False\n",
    "#   while download_finished is False:\n",
    "#     _, download_finished = downloader.next_chunk()\n",
    "\n",
    "#   print('File %s downloaded to %s' % (report_file['id'],\n",
    "#                                       os.path.realpath(out_file.name)))"
   ]
  },
  {
   "cell_type": "code",
   "execution_count": 293,
   "metadata": {},
   "outputs": [],
   "source": [
    "\n",
    "\n",
    "# if report_file['status'] == 'REPORT_AVAILABLE':\n",
    "#   # Prepare a local file to download the report contents to.\n",
    "#   out_file = open(\"myfile.txt\", \"x\")\n",
    "\n",
    "#   # Create a get request.\n",
    "#   request = service.files().get_media(reportId=921909340, fileId=3630090255)\n",
    "\n",
    "#   # Create a media downloader instance.\n",
    "#   # Optional: adjust the chunk size used when downloading the file.\n",
    "#   downloader = http.MediaIoBaseDownload(\n",
    "#       out_file, request, chunksize=CHUNK_SIZE)\n",
    "\n",
    "#   # Execute the get request and download the file.\n",
    "#   download_finished = False\n",
    "#   while download_finished is False:\n",
    "#     _, download_finished = downloader.next_chunk()\n",
    "\n",
    "#   print('File %s downloaded to %s' % (report_file['id'],\n",
    "#                                       os.path.realpath(out_file.name)))"
   ]
  }
 ],
 "metadata": {
  "interpreter": {
   "hash": "31f2aee4e71d21fbe5cf8b01ff0e069b9275f58929596ceb00d14d90e3e16cd6"
  },
  "kernelspec": {
   "display_name": "Python 3.8.9 64-bit",
   "language": "python",
   "name": "python3"
  },
  "language_info": {
   "codemirror_mode": {
    "name": "ipython",
    "version": 3
   },
   "file_extension": ".py",
   "mimetype": "text/x-python",
   "name": "python",
   "nbconvert_exporter": "python",
   "pygments_lexer": "ipython3",
   "version": "3.8.9"
  },
  "orig_nbformat": 4
 },
 "nbformat": 4,
 "nbformat_minor": 2
}
