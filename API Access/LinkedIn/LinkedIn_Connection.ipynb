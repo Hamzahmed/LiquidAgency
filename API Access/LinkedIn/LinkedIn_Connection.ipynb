{
 "cells": [
  {
   "cell_type": "markdown",
   "metadata": {},
   "source": [
    "Documentation for LinkedIn Marketing API:\n",
    "\n",
    "https://docs.microsoft.com/en-us/linkedin/marketing/"
   ]
  },
  {
   "cell_type": "code",
   "execution_count": 12,
   "metadata": {},
   "outputs": [],
   "source": [
    "import json\n",
    "import random\n",
    "import requests\n",
    "import string"
   ]
  },
  {
   "cell_type": "code",
   "execution_count": 17,
   "metadata": {},
   "outputs": [],
   "source": [
    "def create_CSRF_token():\n",
    "    '''\n",
    "    This function generates a random string of letters.\n",
    "    It is not required by the Linkedin API to use a CSRF token.\n",
    "    However, it is recommended to protect against cross-site request forgery\n",
    "    '''\n",
    "    letters = string.ascii_lowercase\n",
    "    token = ''.join(random.choice(letters) for i in range(20))\n",
    "    return token"
   ]
  },
  {
   "cell_type": "code",
   "execution_count": 19,
   "metadata": {},
   "outputs": [
    {
     "name": "stdout",
     "output_type": "stream",
     "text": [
      "pacoerljvcrfmwevtsgg\n"
     ]
    }
   ],
   "source": [
    "token = create_CSRF_token()\n",
    "print (token)"
   ]
  },
  {
   "cell_type": "code",
   "execution_count": 64,
   "metadata": {},
   "outputs": [
    {
     "name": "stdout",
     "output_type": "stream",
     "text": [
      "https://www.linkedin.com/uas/login?session_redirect=%2Foauth%2Fv2%2Flogin-success%3Fapp_id%3D200690422%26auth_type%3DAC%26flow%3D%257B%2522scope%2522%253A%2522r_liteprofile%2522%252C%2522appId%2522%253A200690422%252C%2522authorizationType%2522%253A%2522OAUTH2_AUTHORIZATION_CODE%2522%252C%2522redirectUri%2522%253A%2522http%253A%252F%252Flocalhost%253A8080%252F%2522%252C%2522currentStage%2522%253A%2522LOGIN_SUCCESS%2522%252C%2522currentSubStage%2522%253A0%252C%2522authFlowName%2522%253A%2522generic-permission-list%2522%252C%2522state%2522%253A%2522pceztnrifhxqaibfcane%2522%252C%2522creationTime%2522%253A1644612234495%257D&fromSignIn=1&trk=oauth&cancel_redirect=%2Foauth%2Fv2%2Flogin-cancel%3Fapp_id%3D200690422%26auth_type%3DAC%26flow%3D%257B%2522scope%2522%253A%2522r_liteprofile%2522%252C%2522appId%2522%253A200690422%252C%2522authorizationType%2522%253A%2522OAUTH2_AUTHORIZATION_CODE%2522%252C%2522redirectUri%2522%253A%2522http%253A%252F%252Flocalhost%253A8080%252F%2522%252C%2522currentStage%2522%253A%2522LOGIN_SUCCESS%2522%252C%2522currentSubStage%2522%253A0%252C%2522authFlowName%2522%253A%2522generic-permission-list%2522%252C%2522state%2522%253A%2522pceztnrifhxqaibfcane%2522%252C%2522creationTime%2522%253A1644612234495%257D\n"
     ]
    }
   ],
   "source": [
    "import requests\n",
    "\n",
    "\n",
    "#get access_token by post with user & password\n",
    "#Step 1 - GET to request for authentication\n",
    "def get_auth_link():\n",
    "    URL = \"https://www.linkedin.com/oauth/v2/authorization\"\n",
    "    client_id= \"78qoxr8ya7kxuj\"\n",
    "    redirect_uri = 'http://localhost:8080/'\n",
    "    scope='r_liteprofile'\n",
    "    PARAMS = {'response_type':'code', 'client_id':client_id,  'redirect_uri':redirect_uri, 'state':create_CSRF_token(), 'scope':scope}\n",
    "    r = requests.get(url = URL, params = PARAMS)\n",
    "    return_url = r.url\n",
    "    print(return_url)\n",
    "\n",
    "get_auth_link()"
   ]
  },
  {
   "cell_type": "code",
   "execution_count": 65,
   "metadata": {},
   "outputs": [
    {
     "name": "stdout",
     "output_type": "stream",
     "text": [
      "{'access_token': 'AQVmd7yg5KuAxHv2gB3PzmYDsTS--dftg9YWcb-g5At8k4TSldF5N4X9Afp8k-95Yw95b9qpGli8gMAKcKDYH9-cKL7NbytjpoDtG9Ug_zZdxxtqMT-zAX9RUldNGjOtklNj4JSBwgrr2JObSl9XP_ukuWBts2rHQJDoR3llyC9ACREH0CMuRWY4MJ7h9NUVi0umsmjd0dGrSlHfUSumz2fGQlTjNYHGJrdrC1k1YvbpBXHarw7XxeZ_vP-FLBXcpH4mARiBn1XK8eTEw6n0zVdCIi-dggxG3n6F8sWgHeua14wu48hfq0hKN4tUZDfKFuih8oHQrwJbQVpF8TukKiI7YCFA5w', 'expires_in': 5183999}\n"
     ]
    }
   ],
   "source": [
    "headers = {'Content-Type': 'application/x-www-form-urlencoded', 'User-Agent': 'OAuth gem v0.4.4'}\n",
    "AUTH_CODE = \"AQR4Z3B8rzelA4AyGntqieaFidYhNHcWYJ_KLwshwr82mF81ACHeEBrP6NLzfZZWCMXBXyi0uzxHcNz7HkxHzb5gSFLpGFxHGJjyTR6nIn5hVPn-G9FFWiGjdoIF_vJaxJJnuEpit1vjil6UN7oQYMVuidsrfUWiSg32BzSnZpVl0TEcy0_y3vVEQYbejyCrj2rxjSmcGr8O88e3UyM\"\n",
    "ACCESS_TOKEN_URL = 'https://www.linkedin.com/oauth/v2/accessToken'\n",
    "client_id=\"78qoxr8ya7kxuj\"\n",
    "client_secret=\"PxOZpWbWpnVcGHYk\"\n",
    "redirect_uri = 'http://localhost:8080/'\n",
    "PARAM = {'grant_type': 'authorization_code',\n",
    "  'code': AUTH_CODE,\n",
    "  'redirect_uri': redirect_uri,\n",
    "  'client_id': client_id,\n",
    "  'client_secret': client_secret}\n",
    "response = requests.post(ACCESS_TOKEN_URL, data=PARAM, headers=headers, timeout=600)\n",
    "data = response.json()\n",
    "print(data)\n",
    "access_token = data['access_token']\n",
    "\n",
    "\n"
   ]
  },
  {
   "cell_type": "code",
   "execution_count": 66,
   "metadata": {},
   "outputs": [
    {
     "data": {
      "text/plain": [
       "'AQVmd7yg5KuAxHv2gB3PzmYDsTS--dftg9YWcb-g5At8k4TSldF5N4X9Afp8k-95Yw95b9qpGli8gMAKcKDYH9-cKL7NbytjpoDtG9Ug_zZdxxtqMT-zAX9RUldNGjOtklNj4JSBwgrr2JObSl9XP_ukuWBts2rHQJDoR3llyC9ACREH0CMuRWY4MJ7h9NUVi0umsmjd0dGrSlHfUSumz2fGQlTjNYHGJrdrC1k1YvbpBXHarw7XxeZ_vP-FLBXcpH4mARiBn1XK8eTEw6n0zVdCIi-dggxG3n6F8sWgHeua14wu48hfq0hKN4tUZDfKFuih8oHQrwJbQVpF8TukKiI7YCFA5w'"
      ]
     },
     "execution_count": 66,
     "metadata": {},
     "output_type": "execute_result"
    }
   ],
   "source": [
    "access_token "
   ]
  },
  {
   "cell_type": "code",
   "execution_count": 67,
   "metadata": {},
   "outputs": [
    {
     "name": "stdout",
     "output_type": "stream",
     "text": [
      "{'localizedLastName': 'Ahmed', 'profilePicture': {'displayImage': 'urn:li:digitalmediaAsset:C4E03AQEN3gZtHgkVQQ'}, 'firstName': {'localized': {'en_US': 'Hamza'}, 'preferredLocale': {'country': 'US', 'language': 'en'}}, 'lastName': {'localized': {'en_US': 'Ahmed'}, 'preferredLocale': {'country': 'US', 'language': 'en'}}, 'id': 'n4nSrLZ73T', 'localizedFirstName': 'Hamza'}\n"
     ]
    }
   ],
   "source": [
    "\n",
    "def get_profile(access_token):\n",
    "    URL = \"https://api.linkedin.com/v2/me\"\n",
    "    headers = {'Content-Type': 'application/x-www-form-urlencoded','Authorization':'Bearer {}'.format(access_token),'X-Restli-Protocol-Version':'2.0.0'}\n",
    "    response = requests.get(url=URL, headers=headers)\n",
    "    print(response.json())\n",
    "\n",
    "get_profile(access_token)"
   ]
  },
  {
   "cell_type": "code",
   "execution_count": null,
   "metadata": {},
   "outputs": [],
   "source": []
  }
 ],
 "metadata": {
  "interpreter": {
   "hash": "31f2aee4e71d21fbe5cf8b01ff0e069b9275f58929596ceb00d14d90e3e16cd6"
  },
  "kernelspec": {
   "display_name": "Python 3.8.9 64-bit",
   "language": "python",
   "name": "python3"
  },
  "language_info": {
   "codemirror_mode": {
    "name": "ipython",
    "version": 3
   },
   "file_extension": ".py",
   "mimetype": "text/x-python",
   "name": "python",
   "nbconvert_exporter": "python",
   "pygments_lexer": "ipython3",
   "version": "3.8.9"
  },
  "orig_nbformat": 4
 },
 "nbformat": 4,
 "nbformat_minor": 2
}
