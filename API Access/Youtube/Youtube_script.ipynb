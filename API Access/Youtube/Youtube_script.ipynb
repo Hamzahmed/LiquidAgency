{
 "cells": [
  {
   "cell_type": "code",
   "execution_count": 12,
   "metadata": {},
   "outputs": [],
   "source": [
    "from bs4 import BeautifulSoup as soup\n",
    "import requests\n",
    "import re\n",
    "import pandas as pd\n",
    "from selenium import webdriver\n",
    "from webdriver_manager.chrome import ChromeDriverManager\n",
    "import time\n",
    "\n"
   ]
  },
  {
   "cell_type": "code",
   "execution_count": 4,
   "metadata": {},
   "outputs": [],
   "source": [
    "HEADER = {'User-Agent': 'Mozilla/5.0 (Windows; U; Windows NT 5.1; en-US; rv:1.9.0.7) Gecko/2009021910 Firefox/3.0.7'}\n",
    "URL = \"https://www.youtube.com/results?search_query=knife+reviews\"\n",
    "#PROXY = {\"https\": \"https//59.110.7.190:1080\"}"
   ]
  },
  {
   "cell_type": "code",
   "execution_count": 28,
   "metadata": {},
   "outputs": [
    {
     "name": "stderr",
     "output_type": "stream",
     "text": [
      "\n",
      "\n",
      "====== WebDriver manager ======\n",
      "Current google-chrome version is 98.0.4758\n",
      "Get LATEST chromedriver version for 98.0.4758 google-chrome\n",
      "Driver [/Users/hamza.ahmed/.wdm/drivers/chromedriver/mac64/98.0.4758.102/chromedriver] found in cache\n",
      "/var/folders/x_/94tnwtp142gf931j6d20vqk40000gq/T/ipykernel_43339/370661942.py:1: DeprecationWarning: executable_path has been deprecated, please pass in a Service object\n",
      "  browser = webdriver.Chrome(ChromeDriverManager().install())\n"
     ]
    }
   ],
   "source": [
    "\n",
    "browser = webdriver.Chrome(ChromeDriverManager().install())\n",
    "browser.get(URL)\n",
    "browser.implicitly_wait(60) "
   ]
  },
  {
   "cell_type": "code",
   "execution_count": 46,
   "metadata": {},
   "outputs": [
    {
     "name": "stdout",
     "output_type": "stream",
     "text": [
      "25\n"
     ]
    }
   ],
   "source": [
    "user_data = browser.find_elements(By.XPATH,'//*[@id=\"thumbnail\"]')\n",
    "links = []\n",
    "for i in user_data:\n",
    "    links.append(i.get_attribute('href'))\n",
    "\n",
    "print(len(links))"
   ]
  },
  {
   "cell_type": "code",
   "execution_count": 47,
   "metadata": {},
   "outputs": [
    {
     "data": {
      "text/plain": [
       "[None,\n",
       " 'https://www.youtube.com/watch?v=FUufroRWvfc',\n",
       " 'https://www.youtube.com/watch?v=iJHhbVWVgI4',\n",
       " 'https://www.youtube.com/watch?v=7FVfAqVx5Is',\n",
       " 'https://www.youtube.com/watch?v=LO35cdWL1MQ',\n",
       " 'https://www.youtube.com/watch?v=x3BF0N92h4Y',\n",
       " 'https://www.youtube.com/watch?v=d6n_CRe_rEE',\n",
       " 'https://www.youtube.com/watch?v=u4NGntHapmg',\n",
       " 'https://www.youtube.com/watch?v=0mXpqZtreIU',\n",
       " 'https://www.youtube.com/watch?v=EiYX5Pe4IzQ',\n",
       " 'https://www.youtube.com/watch?v=cQOVB5UrOjc',\n",
       " 'https://www.youtube.com/watch?v=HiCxoiRQ51s',\n",
       " 'https://www.youtube.com/watch?v=e9I_OOPpqqc',\n",
       " 'https://www.youtube.com/watch?v=zQxqvjpGzHU',\n",
       " 'https://www.youtube.com/watch?v=4TWh78NLh6I',\n",
       " 'https://www.youtube.com/watch?v=9NYfHopE2xs',\n",
       " 'https://www.youtube.com/watch?v=7V7Ik-shXFY',\n",
       " 'https://www.youtube.com/watch?v=e50gujs4l-I',\n",
       " 'https://www.youtube.com/watch?v=hus5qpTL61A',\n",
       " 'https://www.youtube.com/watch?v=WgpR-7VLiMk',\n",
       " 'https://www.youtube.com/watch?v=BdgzbYaBYwA',\n",
       " 'https://www.youtube.com/watch?v=apjwvx0VYN8',\n",
       " 'https://www.youtube.com/watch?v=OKD3LyW44xk',\n",
       " 'https://www.youtube.com/watch?v=nGyK1Pce2-k',\n",
       " 'https://www.youtube.com/watch?v=CkBgvznFx-I']"
      ]
     },
     "execution_count": 47,
     "metadata": {},
     "output_type": "execute_result"
    }
   ],
   "source": [
    "links"
   ]
  },
  {
   "cell_type": "code",
   "execution_count": 7,
   "metadata": {},
   "outputs": [
    {
     "data": {
      "text/plain": [
       "0"
      ]
     },
     "execution_count": 7,
     "metadata": {},
     "output_type": "execute_result"
    }
   ],
   "source": [
    "knife_items = Bootifulobj.find_all('div',class_= \"item\")\n",
    "len(knife_items)\n"
   ]
  },
  {
   "cell_type": "code",
   "execution_count": null,
   "metadata": {},
   "outputs": [],
   "source": []
  }
 ],
 "metadata": {
  "interpreter": {
   "hash": "31f2aee4e71d21fbe5cf8b01ff0e069b9275f58929596ceb00d14d90e3e16cd6"
  },
  "kernelspec": {
   "display_name": "Python 3.8.9 64-bit",
   "language": "python",
   "name": "python3"
  },
  "language_info": {
   "codemirror_mode": {
    "name": "ipython",
    "version": 3
   },
   "file_extension": ".py",
   "mimetype": "text/x-python",
   "name": "python",
   "nbconvert_exporter": "python",
   "pygments_lexer": "ipython3",
   "version": "3.8.9"
  },
  "orig_nbformat": 4
 },
 "nbformat": 4,
 "nbformat_minor": 2
}
