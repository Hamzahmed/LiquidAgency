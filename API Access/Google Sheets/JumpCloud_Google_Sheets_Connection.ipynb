{
 "cells": [
  {
   "cell_type": "code",
   "execution_count": 1,
   "metadata": {},
   "outputs": [],
   "source": [
    "import oauth2client\n",
    "from oauth2client.client import GoogleCredentials\n",
    "from oauth2client import client\n",
    "from oauth2client.client import flow_from_clientsecrets\n",
    "from oauth2client import file\n",
    "from oauth2client import tools\n",
    "from googleapiclient import discovery\n",
    "from googleapiclient import errors\n",
    "from google_auth_oauthlib import flow\n",
    "import google_auth_httplib2\n",
    "import httplib2\n",
    "import urllib.request\n",
    "import time\n",
    "import os\n",
    "import io\n",
    "from io import StringIO\n",
    "import numpy as np\n",
    "from googleapiclient.http import MediaIoBaseDownload\n",
    "import pandas as pd\n",
    "import json"
   ]
  },
  {
   "cell_type": "code",
   "execution_count": 2,
   "metadata": {},
   "outputs": [],
   "source": [
    "OAUTH_SCOPES = (\"https://www.googleapis.com/auth/drive \" + \"https://www.googleapis.com/auth/drive.file \" + \"https://www.googleapis.com/auth/spreadsheets \")"
   ]
  },
  {
   "cell_type": "code",
   "execution_count": 3,
   "metadata": {},
   "outputs": [],
   "source": [
    "flow = client.flow_from_clientsecrets(\n",
    "    \"//Users/hamza.ahmed/Coding Projects/Python Apps Authentications/Google Sheets/client_secret.json\", scope = OAUTH_SCOPES, \n",
    "    redirect_uri = \"urn:ietf:wg:oauth:2.0:oob\")\n",
    "\n",
    "storage = oauth2client.file.Storage('/Users/hamza.ahmed/Coding Projects/Python Apps Authentications/Google Sheets/credentials.dat')\n",
    "credentials = storage.get()\n",
    "\n",
    "if credentials is None or credentials.invalid:\n",
    "  credentials = tools.run_flow(flow, storage,\n",
    "                               tools.argparser.parse_known_args()[0])\n",
    "http = credentials.authorize(httplib2.Http())\n",
    "\n",
    "\n",
    "service = discovery.build('sheets', 'v4', http=http)"
   ]
  },
  {
   "cell_type": "code",
   "execution_count": 4,
   "metadata": {},
   "outputs": [],
   "source": [
    "df = pd.read_excel('/Users/hamza.ahmed/Coding Projects/Data/Podsight Data/Podsight_JumpCloud.xlsx')  "
   ]
  },
  {
   "cell_type": "code",
   "execution_count": 5,
   "metadata": {},
   "outputs": [
    {
     "data": {
      "text/html": [
       "<div>\n",
       "<style scoped>\n",
       "    .dataframe tbody tr th:only-of-type {\n",
       "        vertical-align: middle;\n",
       "    }\n",
       "\n",
       "    .dataframe tbody tr th {\n",
       "        vertical-align: top;\n",
       "    }\n",
       "\n",
       "    .dataframe thead th {\n",
       "        text-align: right;\n",
       "    }\n",
       "</style>\n",
       "<table border=\"1\" class=\"dataframe\">\n",
       "  <thead>\n",
       "    <tr style=\"text-align: right;\">\n",
       "      <th></th>\n",
       "      <th>Unnamed: 0</th>\n",
       "      <th>publisher_name</th>\n",
       "      <th>line_item_name</th>\n",
       "      <th>impressions</th>\n",
       "      <th>CPM</th>\n",
       "      <th>Detected_On_Site</th>\n",
       "    </tr>\n",
       "  </thead>\n",
       "  <tbody>\n",
       "    <tr>\n",
       "      <th>0</th>\n",
       "      <td>0</td>\n",
       "      <td>NPR</td>\n",
       "      <td>686341 03/15/2022 06/05/2022\\nPodcast - Run of...</td>\n",
       "      <td>306500</td>\n",
       "      <td>0.000939</td>\n",
       "      <td>287.838939</td>\n",
       "    </tr>\n",
       "    <tr>\n",
       "      <th>1</th>\n",
       "      <td>1</td>\n",
       "      <td>NPR</td>\n",
       "      <td>686342 03/15/2022 06/05/2022\\nPodcast - Run of...</td>\n",
       "      <td>885411</td>\n",
       "      <td>0.001841</td>\n",
       "      <td>1630.254806</td>\n",
       "    </tr>\n",
       "    <tr>\n",
       "      <th>2</th>\n",
       "      <td>2</td>\n",
       "      <td>NPR</td>\n",
       "      <td>686343 03/15/2022 06/05/2022\\nPodcast - Run of...</td>\n",
       "      <td>516031</td>\n",
       "      <td>0.001686</td>\n",
       "      <td>869.869327</td>\n",
       "    </tr>\n",
       "    <tr>\n",
       "      <th>3</th>\n",
       "      <td>3</td>\n",
       "      <td>NPR</td>\n",
       "      <td>686344 03/15/2022 06/05/2022\\nPodcast - Run of...</td>\n",
       "      <td>1023447</td>\n",
       "      <td>0.001759</td>\n",
       "      <td>1800.382856</td>\n",
       "    </tr>\n",
       "    <tr>\n",
       "      <th>4</th>\n",
       "      <td>4</td>\n",
       "      <td>NPR</td>\n",
       "      <td>686345 03/15/2022 06/05/2022\\nPodcast - Run of...</td>\n",
       "      <td>494704</td>\n",
       "      <td>0.001458</td>\n",
       "      <td>721.170102</td>\n",
       "    </tr>\n",
       "    <tr>\n",
       "      <th>5</th>\n",
       "      <td>5</td>\n",
       "      <td>NPR</td>\n",
       "      <td>686346 04/04/2022 07/03/2022\\nPodcast - Run of...</td>\n",
       "      <td>570751</td>\n",
       "      <td>0.001903</td>\n",
       "      <td>1086.092878</td>\n",
       "    </tr>\n",
       "    <tr>\n",
       "      <th>6</th>\n",
       "      <td>6</td>\n",
       "      <td>NPR</td>\n",
       "      <td>686347 04/04/2022 07/03/2022\\nPodcast - Run of...</td>\n",
       "      <td>659357</td>\n",
       "      <td>0.001165</td>\n",
       "      <td>768.405427</td>\n",
       "    </tr>\n",
       "  </tbody>\n",
       "</table>\n",
       "</div>"
      ],
      "text/plain": [
       "   Unnamed: 0 publisher_name  \\\n",
       "0           0            NPR   \n",
       "1           1            NPR   \n",
       "2           2            NPR   \n",
       "3           3            NPR   \n",
       "4           4            NPR   \n",
       "5           5            NPR   \n",
       "6           6            NPR   \n",
       "\n",
       "                                      line_item_name  impressions       CPM  \\\n",
       "0  686341 03/15/2022 06/05/2022\\nPodcast - Run of...       306500  0.000939   \n",
       "1  686342 03/15/2022 06/05/2022\\nPodcast - Run of...       885411  0.001841   \n",
       "2  686343 03/15/2022 06/05/2022\\nPodcast - Run of...       516031  0.001686   \n",
       "3  686344 03/15/2022 06/05/2022\\nPodcast - Run of...      1023447  0.001759   \n",
       "4  686345 03/15/2022 06/05/2022\\nPodcast - Run of...       494704  0.001458   \n",
       "5  686346 04/04/2022 07/03/2022\\nPodcast - Run of...       570751  0.001903   \n",
       "6  686347 04/04/2022 07/03/2022\\nPodcast - Run of...       659357  0.001165   \n",
       "\n",
       "   Detected_On_Site  \n",
       "0        287.838939  \n",
       "1       1630.254806  \n",
       "2        869.869327  \n",
       "3       1800.382856  \n",
       "4        721.170102  \n",
       "5       1086.092878  \n",
       "6        768.405427  "
      ]
     },
     "execution_count": 5,
     "metadata": {},
     "output_type": "execute_result"
    }
   ],
   "source": [
    "df"
   ]
  },
  {
   "cell_type": "code",
   "execution_count": 6,
   "metadata": {},
   "outputs": [],
   "source": [
    "df2 = df.values.tolist()"
   ]
  },
  {
   "cell_type": "code",
   "execution_count": 7,
   "metadata": {},
   "outputs": [],
   "source": [
    "SPREADSHEET_ID = '1CbVcfelySzeEoGMcr8r-684h10_wVEl9gL1qqaiWN4s'\n",
    "\n",
    "SHEET_NAME = \"API Connected Data\""
   ]
  },
  {
   "cell_type": "code",
   "execution_count": 8,
   "metadata": {},
   "outputs": [],
   "source": [
    "values = df2\n",
    "data = [\n",
    "    {\n",
    "        'range': f\"'{SHEET_NAME}'!A2\",\n",
    "        'values': values\n",
    "    },\n",
    "    # Additional ranges to update ...\n",
    "]\n",
    "body = {\n",
    "    'valueInputOption': \"RAW\",\n",
    "    'data': data\n",
    "}"
   ]
  },
  {
   "cell_type": "code",
   "execution_count": 9,
   "metadata": {},
   "outputs": [
    {
     "name": "stdout",
     "output_type": "stream",
     "text": [
      "42 cells updated.\n"
     ]
    }
   ],
   "source": [
    "result = service.spreadsheets().values().batchUpdate(\n",
    "    spreadsheetId=SPREADSHEET_ID, body=body).execute()\n",
    "print('{0} cells updated.'.format(result.get('totalUpdatedCells')))"
   ]
  },
  {
   "cell_type": "code",
   "execution_count": null,
   "metadata": {},
   "outputs": [],
   "source": []
  }
 ],
 "metadata": {
  "interpreter": {
   "hash": "aee8b7b246df8f9039afb4144a1f6fd8d2ca17a180786b69acc140d282b71a49"
  },
  "kernelspec": {
   "display_name": "Python 3.10.4 64-bit",
   "language": "python",
   "name": "python3"
  },
  "language_info": {
   "codemirror_mode": {
    "name": "ipython",
    "version": 3
   },
   "file_extension": ".py",
   "mimetype": "text/x-python",
   "name": "python",
   "nbconvert_exporter": "python",
   "pygments_lexer": "ipython3",
   "version": "3.10.4"
  },
  "orig_nbformat": 4
 },
 "nbformat": 4,
 "nbformat_minor": 2
}
