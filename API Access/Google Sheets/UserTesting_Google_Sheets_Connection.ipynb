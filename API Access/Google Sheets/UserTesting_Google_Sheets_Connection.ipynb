{
 "cells": [
  {
   "cell_type": "code",
   "execution_count": 58,
   "metadata": {},
   "outputs": [],
   "source": [
    "import oauth2client\n",
    "from oauth2client.client import GoogleCredentials\n",
    "from oauth2client import client\n",
    "from oauth2client.client import flow_from_clientsecrets\n",
    "from oauth2client import file\n",
    "from oauth2client import tools\n",
    "from googleapiclient import discovery\n",
    "from googleapiclient import errors\n",
    "from google_auth_oauthlib import flow\n",
    "import google_auth_httplib2\n",
    "import httplib2\n",
    "import urllib.request\n",
    "import time\n",
    "import os\n",
    "import io\n",
    "from io import StringIO\n",
    "import numpy as np\n",
    "from googleapiclient.http import MediaIoBaseDownload\n",
    "import pandas as pd\n",
    "import json"
   ]
  },
  {
   "cell_type": "code",
   "execution_count": 59,
   "metadata": {},
   "outputs": [],
   "source": [
    "OAUTH_SCOPES = (\"https://www.googleapis.com/auth/drive \" + \"https://www.googleapis.com/auth/drive.file \" + \"https://www.googleapis.com/auth/spreadsheets \")"
   ]
  },
  {
   "cell_type": "code",
   "execution_count": 60,
   "metadata": {},
   "outputs": [],
   "source": [
    "flow = client.flow_from_clientsecrets(\n",
    "    \"//Users/hamza.ahmed/Coding Projects/Python Apps Authentications/Google Sheets/client_secret.json\", scope = OAUTH_SCOPES, \n",
    "    redirect_uri = \"urn:ietf:wg:oauth:2.0:oob\")\n",
    "\n",
    "storage = oauth2client.file.Storage('/Users/hamza.ahmed/Coding Projects/Python Apps Authentications/Google Sheets/credentials.dat')\n",
    "credentials = storage.get()\n",
    "\n",
    "if credentials is None or credentials.invalid:\n",
    "  credentials = tools.run_flow(flow, storage,\n",
    "                               tools.argparser.parse_known_args()[0])\n",
    "http = credentials.authorize(httplib2.Http())\n",
    "\n",
    "\n",
    "service = discovery.build('sheets', 'v4', http=http)"
   ]
  },
  {
   "cell_type": "code",
   "execution_count": 61,
   "metadata": {},
   "outputs": [],
   "source": [
    "df = pd.read_excel('/Users/hamza.ahmed/Coding Projects/Data/Podsight Data/Podsight_UserTesting.xlsx')  "
   ]
  },
  {
   "cell_type": "code",
   "execution_count": 62,
   "metadata": {},
   "outputs": [
    {
     "data": {
      "text/html": [
       "<div>\n",
       "<style scoped>\n",
       "    .dataframe tbody tr th:only-of-type {\n",
       "        vertical-align: middle;\n",
       "    }\n",
       "\n",
       "    .dataframe tbody tr th {\n",
       "        vertical-align: top;\n",
       "    }\n",
       "\n",
       "    .dataframe thead th {\n",
       "        text-align: right;\n",
       "    }\n",
       "</style>\n",
       "<table border=\"1\" class=\"dataframe\">\n",
       "  <thead>\n",
       "    <tr style=\"text-align: right;\">\n",
       "      <th></th>\n",
       "      <th>publisher_name</th>\n",
       "      <th>impressions</th>\n",
       "      <th>CPM</th>\n",
       "    </tr>\n",
       "  </thead>\n",
       "  <tbody>\n",
       "    <tr>\n",
       "      <th>0</th>\n",
       "      <td>NPR</td>\n",
       "      <td>293895</td>\n",
       "      <td>0.000517</td>\n",
       "    </tr>\n",
       "    <tr>\n",
       "      <th>1</th>\n",
       "      <td>Vox Media</td>\n",
       "      <td>1212549</td>\n",
       "      <td>0.001790</td>\n",
       "    </tr>\n",
       "  </tbody>\n",
       "</table>\n",
       "</div>"
      ],
      "text/plain": [
       "  publisher_name  impressions       CPM\n",
       "0            NPR       293895  0.000517\n",
       "1      Vox Media      1212549  0.001790"
      ]
     },
     "execution_count": 62,
     "metadata": {},
     "output_type": "execute_result"
    }
   ],
   "source": [
    "df"
   ]
  },
  {
   "cell_type": "code",
   "execution_count": 63,
   "metadata": {},
   "outputs": [],
   "source": [
    "df2 = df.values.tolist()"
   ]
  },
  {
   "cell_type": "code",
   "execution_count": 64,
   "metadata": {},
   "outputs": [],
   "source": [
    "SPREADSHEET_ID = '1EL7B5XsxZ2nlTZ8ti-Xc4A4XrbNiaUrZScldQ4SHqv8'\n",
    "\n",
    "SHEET_NAME = \"Podsights\""
   ]
  },
  {
   "cell_type": "code",
   "execution_count": 65,
   "metadata": {},
   "outputs": [],
   "source": [
    "values = df2\n",
    "data = [\n",
    "    {\n",
    "        'range': f\"'{SHEET_NAME}'!A2\",\n",
    "        'values': values\n",
    "    },\n",
    "    # Additional ranges to update ...\n",
    "]\n",
    "body = {\n",
    "    'valueInputOption': \"RAW\",\n",
    "    'data': data\n",
    "}"
   ]
  },
  {
   "cell_type": "code",
   "execution_count": 66,
   "metadata": {},
   "outputs": [
    {
     "name": "stdout",
     "output_type": "stream",
     "text": [
      "6 cells updated.\n"
     ]
    }
   ],
   "source": [
    "result = service.spreadsheets().values().batchUpdate(\n",
    "    spreadsheetId=SPREADSHEET_ID, body=body).execute()\n",
    "print('{0} cells updated.'.format(result.get('totalUpdatedCells')))"
   ]
  },
  {
   "cell_type": "code",
   "execution_count": null,
   "metadata": {},
   "outputs": [],
   "source": []
  },
  {
   "cell_type": "code",
   "execution_count": null,
   "metadata": {},
   "outputs": [],
   "source": []
  }
 ],
 "metadata": {
  "interpreter": {
   "hash": "5edc29c2ed010d6458d71a83433b383a96a8cbd3efe8531bc90c4b8a5b8bcec9"
  },
  "kernelspec": {
   "display_name": "Python 3.8.9 64-bit",
   "language": "python",
   "name": "python3"
  },
  "language_info": {
   "codemirror_mode": {
    "name": "ipython",
    "version": 3
   },
   "file_extension": ".py",
   "mimetype": "text/x-python",
   "name": "python",
   "nbconvert_exporter": "python",
   "pygments_lexer": "ipython3",
   "version": "3.10.4"
  },
  "orig_nbformat": 4
 },
 "nbformat": 4,
 "nbformat_minor": 2
}
