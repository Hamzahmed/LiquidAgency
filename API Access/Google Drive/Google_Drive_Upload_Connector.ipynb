{
 "cells": [
  {
   "cell_type": "code",
   "execution_count": 16,
   "metadata": {},
   "outputs": [],
   "source": [
    "import oauth2client\n",
    "from oauth2client.client import GoogleCredentials, flow_from_clientsecrets\n",
    "from oauth2client import client, file,tools\n",
    "from googleapiclient import discovery, errors\n",
    "from google_auth_oauthlib import flow\n",
    "import google_auth_httplib2\n",
    "import httplib2\n",
    "import time\n",
    "import os\n",
    "import io\n",
    "from googleapiclient.http import MediaFileUpload, MediaIoBaseDownload\n",
    "import pandas as pd"
   ]
  },
  {
   "cell_type": "code",
   "execution_count": 17,
   "metadata": {},
   "outputs": [],
   "source": [
    "OAUTH_SCOPES = 'https://www.googleapis.com/auth/drive.file'"
   ]
  },
  {
   "cell_type": "code",
   "execution_count": 18,
   "metadata": {},
   "outputs": [],
   "source": [
    "Client_Secret_File = \"/Users/hamza.ahmed/Coding Projects/Python Apps Authentications/Google Drive/client_secret.json\"\n",
    "Credentials_Location = \"/Users/hamza.ahmed/Coding Projects/Python Apps Authentications/Google Drive/credentials.dat\""
   ]
  },
  {
   "cell_type": "code",
   "execution_count": 19,
   "metadata": {},
   "outputs": [],
   "source": [
    "# Set up a Flow object to be used if we need to authenticate.\n",
    "flow = client.flow_from_clientsecrets(\n",
    "    Client_Secret_File, scope = OAUTH_SCOPES, \n",
    "    redirect_uri = \"urn:ietf:wg:oauth:2.0:oob\")\n",
    "\n",
    "storage = oauth2client.file.Storage(Credentials_Location)\n",
    "credentials = storage.get()\n",
    "\n",
    "if credentials is None or credentials.invalid:\n",
    "  credentials = tools.run_flow(flow, storage,\n",
    "                               tools.argparser.parse_known_args()[0])\n",
    "http = credentials.authorize(httplib2.Http())"
   ]
  },
  {
   "cell_type": "code",
   "execution_count": 20,
   "metadata": {},
   "outputs": [],
   "source": [
    " import os\n",
    "\n",
    " Directory = os.listdir(\"/Users/hamza.ahmed/Coding Projects/Data/Campaign Manager Data\")"
   ]
  },
  {
   "cell_type": "code",
   "execution_count": 21,
   "metadata": {},
   "outputs": [
    {
     "data": {
      "text/plain": [
       "['df_9.csv',\n",
       " 'df_10.csv',\n",
       " 'df_8.csv',\n",
       " 'df_5.csv',\n",
       " 'df_4.csv',\n",
       " 'df_6.csv',\n",
       " 'df_7.csv',\n",
       " 'df_3.csv',\n",
       " 'df_2.csv',\n",
       " 'df_1.csv']"
      ]
     },
     "execution_count": 21,
     "metadata": {},
     "output_type": "execute_result"
    }
   ],
   "source": [
    "Directory"
   ]
  },
  {
   "cell_type": "code",
   "execution_count": 22,
   "metadata": {},
   "outputs": [],
   "source": [
    "service = discovery.build('drive', 'v3', http=http)"
   ]
  },
  {
   "cell_type": "code",
   "execution_count": 32,
   "metadata": {},
   "outputs": [
    {
     "name": "stdout",
     "output_type": "stream",
     "text": [
      "File ID: 1NGZ-ueyJbrwo__tOOksWOV9DJ4YlWByY\n",
      "File ID: 11Y2Yg7hjj_ToHTTsqoE-91Eg-Ub9wg0T\n",
      "File ID: 189eCbAQhs8LJ9_UqVeryyfP7mboQE-3h\n",
      "File ID: 1-5c7lW503G2uaSOfowzkdzpfmHSTKItT\n",
      "File ID: 10TI4v5R-H8BgP55oequLnnTaNhdoRLqy\n",
      "File ID: 10fHX_KTAKwetSHXHlZ6EORm6TPr4LZtD\n",
      "File ID: 1Y59AIRtN8h4svKJIR7QO14Jxuhp7vq9n\n",
      "File ID: 1IKspNB3_d8-PrOJWfM2gndjW-BCrx9wd\n",
      "File ID: 1tn1rd6OF6d67-xshiXQIGBlHbdxBK19p\n",
      "File ID: 1RJufeg4-LGPsK7Tf7TnA8q1W0K892RLZ\n"
     ]
    }
   ],
   "source": [
    "import os\n",
    "folder_id = '1CJtrL0nFSPejuphxRoadKYOug-mL2dUE'\n",
    "headers = {\n",
    "    \"Authorization\": \"Bearer TOKEN\"}\n",
    "Directory_Path  = \"/Users/hamza.ahmed/Coding Projects/Data/Campaign Manager Data\"\n",
    "\n",
    "for file_name in Directory:\n",
    "    file_metadata = {\n",
    "        'name': os.path.join(Directory_Path,file_name), \n",
    "        'parents': [folder_id]\n",
    "    }\n",
    "    media = MediaFileUpload(os.path.join(Directory_Path,file_name),\n",
    "                        resumable=True)\n",
    "    file = service.files().create(body=file_metadata, media_body=media, fields='id').execute()\n",
    "    print ('File ID: ' + file.get('id'))"
   ]
  },
  {
   "cell_type": "code",
   "execution_count": 25,
   "metadata": {},
   "outputs": [
    {
     "ename": "IsADirectoryError",
     "evalue": "[Errno 21] Is a directory: '/Users/hamza.ahmed/Coding Projects/Data/Campaign Manager Data'",
     "output_type": "error",
     "traceback": [
      "\u001b[0;31m---------------------------------------------------------------------------\u001b[0m",
      "\u001b[0;31mIsADirectoryError\u001b[0m                         Traceback (most recent call last)",
      "\u001b[1;32m/Users/hamza.ahmed/Coding Projects/Python_Apps/API Access/Google Drive/Google_Drive_Upload_Connector.ipynb Cell 7'\u001b[0m in \u001b[0;36m<module>\u001b[0;34m\u001b[0m\n\u001b[1;32m      <a href='vscode-notebook-cell:/Users/hamza.ahmed/Coding%20Projects/Python_Apps/API%20Access/Google%20Drive/Google_Drive_Upload_Connector.ipynb#ch0000006?line=0'>1</a>\u001b[0m test_file \u001b[39m=\u001b[39m \u001b[39m\"\u001b[39m\u001b[39m/Users/hamza.ahmed/Coding Projects/Data/Campaign Manager Data\u001b[39m\u001b[39m\"\u001b[39m\n\u001b[1;32m      <a href='vscode-notebook-cell:/Users/hamza.ahmed/Coding%20Projects/Python_Apps/API%20Access/Google%20Drive/Google_Drive_Upload_Connector.ipynb#ch0000006?line=1'>2</a>\u001b[0m file_metadata \u001b[39m=\u001b[39m {\n\u001b[1;32m      <a href='vscode-notebook-cell:/Users/hamza.ahmed/Coding%20Projects/Python_Apps/API%20Access/Google%20Drive/Google_Drive_Upload_Connector.ipynb#ch0000006?line=2'>3</a>\u001b[0m     \u001b[39m'\u001b[39m\u001b[39mname\u001b[39m\u001b[39m'\u001b[39m: \u001b[39m'\u001b[39m\u001b[39mInvoices\u001b[39m\u001b[39m'\u001b[39m,\n\u001b[1;32m      <a href='vscode-notebook-cell:/Users/hamza.ahmed/Coding%20Projects/Python_Apps/API%20Access/Google%20Drive/Google_Drive_Upload_Connector.ipynb#ch0000006?line=3'>4</a>\u001b[0m     \u001b[39m'\u001b[39m\u001b[39mmimeType\u001b[39m\u001b[39m'\u001b[39m: \u001b[39m'\u001b[39m\u001b[39mapplication/vnd.google-apps.folder\u001b[39m\u001b[39m'\u001b[39m\n\u001b[1;32m      <a href='vscode-notebook-cell:/Users/hamza.ahmed/Coding%20Projects/Python_Apps/API%20Access/Google%20Drive/Google_Drive_Upload_Connector.ipynb#ch0000006?line=4'>5</a>\u001b[0m }\n\u001b[0;32m----> <a href='vscode-notebook-cell:/Users/hamza.ahmed/Coding%20Projects/Python_Apps/API%20Access/Google%20Drive/Google_Drive_Upload_Connector.ipynb#ch0000006?line=5'>6</a>\u001b[0m media \u001b[39m=\u001b[39m MediaFileUpload(test_file,\n\u001b[1;32m      <a href='vscode-notebook-cell:/Users/hamza.ahmed/Coding%20Projects/Python_Apps/API%20Access/Google%20Drive/Google_Drive_Upload_Connector.ipynb#ch0000006?line=6'>7</a>\u001b[0m                         resumable\u001b[39m=\u001b[39;49m\u001b[39mTrue\u001b[39;49;00m)\n\u001b[1;32m      <a href='vscode-notebook-cell:/Users/hamza.ahmed/Coding%20Projects/Python_Apps/API%20Access/Google%20Drive/Google_Drive_Upload_Connector.ipynb#ch0000006?line=7'>8</a>\u001b[0m file \u001b[39m=\u001b[39m service\u001b[39m.\u001b[39mfiles()\u001b[39m.\u001b[39mcreate(body\u001b[39m=\u001b[39mfile_metadata, media_body\u001b[39m=\u001b[39mmedia,\n\u001b[1;32m      <a href='vscode-notebook-cell:/Users/hamza.ahmed/Coding%20Projects/Python_Apps/API%20Access/Google%20Drive/Google_Drive_Upload_Connector.ipynb#ch0000006?line=8'>9</a>\u001b[0m                                     fields\u001b[39m=\u001b[39m\u001b[39m'\u001b[39m\u001b[39mid\u001b[39m\u001b[39m'\u001b[39m)\u001b[39m.\u001b[39mexecute()\n\u001b[1;32m     <a href='vscode-notebook-cell:/Users/hamza.ahmed/Coding%20Projects/Python_Apps/API%20Access/Google%20Drive/Google_Drive_Upload_Connector.ipynb#ch0000006?line=9'>10</a>\u001b[0m \u001b[39mprint\u001b[39m (\u001b[39m'\u001b[39m\u001b[39mFolder ID: \u001b[39m\u001b[39m%s\u001b[39;00m\u001b[39m'\u001b[39m \u001b[39m%\u001b[39m file\u001b[39m.\u001b[39mget(\u001b[39m'\u001b[39m\u001b[39mid\u001b[39m\u001b[39m'\u001b[39m))\n",
      "File \u001b[0;32m~/Library/Python/3.8/lib/python/site-packages/googleapiclient/_helpers.py:131\u001b[0m, in \u001b[0;36mpositional.<locals>.positional_decorator.<locals>.positional_wrapper\u001b[0;34m(*args, **kwargs)\u001b[0m\n\u001b[1;32m    <a href='file:///Users/hamza.ahmed/Library/Python/3.8/lib/python/site-packages/googleapiclient/_helpers.py?line=128'>129</a>\u001b[0m     \u001b[39melif\u001b[39;00m positional_parameters_enforcement \u001b[39m==\u001b[39m POSITIONAL_WARNING:\n\u001b[1;32m    <a href='file:///Users/hamza.ahmed/Library/Python/3.8/lib/python/site-packages/googleapiclient/_helpers.py?line=129'>130</a>\u001b[0m         logger\u001b[39m.\u001b[39mwarning(message)\n\u001b[0;32m--> <a href='file:///Users/hamza.ahmed/Library/Python/3.8/lib/python/site-packages/googleapiclient/_helpers.py?line=130'>131</a>\u001b[0m \u001b[39mreturn\u001b[39;00m wrapped(\u001b[39m*\u001b[39;49margs, \u001b[39m*\u001b[39;49m\u001b[39m*\u001b[39;49mkwargs)\n",
      "File \u001b[0;32m~/Library/Python/3.8/lib/python/site-packages/googleapiclient/http.py:593\u001b[0m, in \u001b[0;36mMediaFileUpload.__init__\u001b[0;34m(self, filename, mimetype, chunksize, resumable)\u001b[0m\n\u001b[1;32m    <a href='file:///Users/hamza.ahmed/Library/Python/3.8/lib/python/site-packages/googleapiclient/http.py?line=590'>591</a>\u001b[0m \u001b[39mself\u001b[39m\u001b[39m.\u001b[39m_fd \u001b[39m=\u001b[39m \u001b[39mNone\u001b[39;00m\n\u001b[1;32m    <a href='file:///Users/hamza.ahmed/Library/Python/3.8/lib/python/site-packages/googleapiclient/http.py?line=591'>592</a>\u001b[0m \u001b[39mself\u001b[39m\u001b[39m.\u001b[39m_filename \u001b[39m=\u001b[39m filename\n\u001b[0;32m--> <a href='file:///Users/hamza.ahmed/Library/Python/3.8/lib/python/site-packages/googleapiclient/http.py?line=592'>593</a>\u001b[0m \u001b[39mself\u001b[39m\u001b[39m.\u001b[39m_fd \u001b[39m=\u001b[39m \u001b[39mopen\u001b[39;49m(\u001b[39mself\u001b[39;49m\u001b[39m.\u001b[39;49m_filename, \u001b[39m\"\u001b[39;49m\u001b[39mrb\u001b[39;49m\u001b[39m\"\u001b[39;49m)\n\u001b[1;32m    <a href='file:///Users/hamza.ahmed/Library/Python/3.8/lib/python/site-packages/googleapiclient/http.py?line=593'>594</a>\u001b[0m \u001b[39mif\u001b[39;00m mimetype \u001b[39mis\u001b[39;00m \u001b[39mNone\u001b[39;00m:\n\u001b[1;32m    <a href='file:///Users/hamza.ahmed/Library/Python/3.8/lib/python/site-packages/googleapiclient/http.py?line=594'>595</a>\u001b[0m     \u001b[39m# No mimetype provided, make a guess.\u001b[39;00m\n\u001b[1;32m    <a href='file:///Users/hamza.ahmed/Library/Python/3.8/lib/python/site-packages/googleapiclient/http.py?line=595'>596</a>\u001b[0m     mimetype, _ \u001b[39m=\u001b[39m mimetypes\u001b[39m.\u001b[39mguess_type(filename)\n",
      "\u001b[0;31mIsADirectoryError\u001b[0m: [Errno 21] Is a directory: '/Users/hamza.ahmed/Coding Projects/Data/Campaign Manager Data'"
     ]
    }
   ],
   "source": []
  },
  {
   "cell_type": "code",
   "execution_count": null,
   "metadata": {},
   "outputs": [],
   "source": []
  }
 ],
 "metadata": {
  "interpreter": {
   "hash": "5edc29c2ed010d6458d71a83433b383a96a8cbd3efe8531bc90c4b8a5b8bcec9"
  },
  "kernelspec": {
   "display_name": "Python 3.8.9 64-bit",
   "language": "python",
   "name": "python3"
  },
  "language_info": {
   "codemirror_mode": {
    "name": "ipython",
    "version": 3
   },
   "file_extension": ".py",
   "mimetype": "text/x-python",
   "name": "python",
   "nbconvert_exporter": "python",
   "pygments_lexer": "ipython3",
   "version": "3.8.9"
  },
  "orig_nbformat": 4
 },
 "nbformat": 4,
 "nbformat_minor": 2
}
