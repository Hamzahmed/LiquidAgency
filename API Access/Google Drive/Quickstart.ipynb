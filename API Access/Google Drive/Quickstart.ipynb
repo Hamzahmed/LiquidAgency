{
 "cells": [
  {
   "cell_type": "code",
   "execution_count": 1,
   "metadata": {},
   "outputs": [],
   "source": [
    "from __future__ import print_function\n",
    "\n",
    "import os.path\n",
    "\n",
    "from google.auth.transport.requests import Request\n",
    "from google.oauth2.credentials import Credentials\n",
    "from google_auth_oauthlib.flow import InstalledAppFlow\n",
    "from googleapiclient.discovery import build\n",
    "from googleapiclient.errors import HttpError"
   ]
  },
  {
   "cell_type": "code",
   "execution_count": 2,
   "metadata": {},
   "outputs": [],
   "source": [
    "SCOPES = ['https://www.googleapis.com/auth/drive.metadata.readonly']"
   ]
  },
  {
   "cell_type": "code",
   "execution_count": 3,
   "metadata": {},
   "outputs": [
    {
     "name": "stdout",
     "output_type": "stream",
     "text": [
      "Files:\n",
      "February JumpCloud-Campaign Stewardship-v1-030922 (1zmibjsjEYlJNltoJf7_o8ngIRZ-33Vkj1x9e5Rtkkgk)\n",
      "JMP: GA_Feb2022 (1fZNYoIDMU06KmG8cTXUwhzgVLZ7ah6sD8mBEEbm8l8A)\n",
      "Scrolling Announcements (1vRUO0Sxc-uVyPRfadND061ODFwnXOeGOaGlMJIWoZLw)\n",
      "YOUTUBE_SAMPLE_SLIDE10.psd (1J2nBDlci-tEF5ddgGq44X0qU0JiR4O9f)\n",
      "22AE_Link Tracking_New Hotness (1RSRJQV6G2SnFrl2f7UqTKBxfM_jaQLvL-ZX83ShORKk)\n",
      "5 for 5 (1CjOljcZZ_dsafBapVFRwfS4SFgKqCKXVoGtaSw0ECdE)\n",
      "JMP: GA_Feb2022_acquisition-channels_OTHER_POP (1QV4qZoICiqN8Xq-mD9g4XqmCkJAI_vSeeIHwnCg7dSQ)\n",
      "JMP: GA_Feb2022_acquisition-channels_OTHER_YOY (1aviK4sbkhjWAqHyGZcpBhYy3FpVJLsI0N1V8VkJD0_A)\n",
      "JMP: GA_Feb2022_acquisition-channels_POP (1K8uUG3LFSNVp9mjUEn577ewuKKVAa0vo-dQMor3fJxI)\n",
      "JMP: GA_Feb2022_acquisition-channels_YOY (1okt7FtPuZhCqChSd1TW-2siQc9yRfiWJRxpMTixF76A)\n"
     ]
    }
   ],
   "source": [
    "def main():\n",
    "    \"\"\"Shows basic usage of the Drive v3 API.\n",
    "    Prints the names and ids of the first 10 files the user has access to.\n",
    "    \"\"\"\n",
    "    creds = None\n",
    "    # The file token.json stores the user's access and refresh tokens, and is\n",
    "    # created automatically when the authorization flow completes for the first\n",
    "    # time.\n",
    "    if os.path.exists('token.json'):\n",
    "        creds = Credentials.from_authorized_user_file('token.json', SCOPES)\n",
    "    # If there are no (valid) credentials available, let the user log in.\n",
    "    if not creds or not creds.valid:\n",
    "        if creds and creds.expired and creds.refresh_token:\n",
    "            creds.refresh(Request())\n",
    "        else:\n",
    "            flow = InstalledAppFlow.from_client_secrets_file('/Users/hamza.ahmed/Coding Projects/Python Apps Authentications/Google Drive/client_secret.json', SCOPES)\n",
    "            creds = flow.run_local_server(port=0)\n",
    "        # Save the credentials for the next run\n",
    "        with open('token.json', 'w') as token:\n",
    "            token.write(creds.to_json())\n",
    "\n",
    "    try:\n",
    "        service = build('drive', 'v3', credentials=creds)\n",
    "\n",
    "        # Call the Drive v3 API\n",
    "        results = service.files().list(\n",
    "            pageSize=10, fields=\"nextPageToken, files(id, name)\").execute()\n",
    "        items = results.get('files', [])\n",
    "\n",
    "        if not items:\n",
    "            print('No files found.')\n",
    "            return\n",
    "        print('Files:')\n",
    "        for item in items:\n",
    "            print(u'{0} ({1})'.format(item['name'], item['id']))\n",
    "    except HttpError as error:\n",
    "        # TODO(developer) - Handle errors from drive API.\n",
    "        print(f'An error occurred: {error}')\n",
    "\n",
    "\n",
    "if __name__ == '__main__':\n",
    "    main()"
   ]
  },
  {
   "cell_type": "code",
   "execution_count": null,
   "metadata": {},
   "outputs": [],
   "source": []
  }
 ],
 "metadata": {
  "interpreter": {
   "hash": "5edc29c2ed010d6458d71a83433b383a96a8cbd3efe8531bc90c4b8a5b8bcec9"
  },
  "kernelspec": {
   "display_name": "Python 3.8.9 64-bit",
   "language": "python",
   "name": "python3"
  },
  "language_info": {
   "codemirror_mode": {
    "name": "ipython",
    "version": 3
   },
   "file_extension": ".py",
   "mimetype": "text/x-python",
   "name": "python",
   "nbconvert_exporter": "python",
   "pygments_lexer": "ipython3",
   "version": "3.8.9"
  },
  "orig_nbformat": 4
 },
 "nbformat": 4,
 "nbformat_minor": 2
}
