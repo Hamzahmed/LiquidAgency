{
 "cells": [
  {
   "cell_type": "code",
   "execution_count": 3,
   "metadata": {},
   "outputs": [
    {
     "name": "stderr",
     "output_type": "stream",
     "text": [
      "/Users/hamza.ahmed/Library/Python/3.8/lib/python/site-packages/snowflake/connector/options.py:96: UserWarning: You have an incompatible version of 'pyarrow' installed (7.0.0), please install a version that adheres to: 'pyarrow<6.1.0,>=6.0.0; extra == \"pandas\"'\n",
      "  warn_incompatible_dep(\n"
     ]
    }
   ],
   "source": [
    "import json\n",
    "#!/usr/bin/env python\n",
    "import snowflake.connector\n",
    "from snowflake.connector.pandas_tools import write_pandas\n",
    "import pandas as pd\n",
    "path_to_json = \"/Users/hamza.ahmed/Coding Projects/Python Apps Authentications/Snowflake/snowflake_auth.json\"\n",
    "\n",
    "with open(path_to_json, \"r\") as handler:\n",
    "    info = json.load(handler)"
   ]
  },
  {
   "cell_type": "code",
   "execution_count": 29,
   "metadata": {},
   "outputs": [],
   "source": [
    "def get_col_types(df):\n",
    "    \n",
    "    '''\n",
    "        Helper function to create/modify Snowflake tables; gets the column and dtype pair for each item in the dataframe\n",
    "\n",
    "        \n",
    "        args:\n",
    "            df: dataframe to evaluate\n",
    "            \n",
    "    '''\n",
    "        \n",
    "    import numpy as np\n",
    "    \n",
    "    # get dtypes and convert to df\n",
    "    ct = df.dtypes.reset_index().rename(columns={0:'col'})\n",
    "    ct = ct.apply(lambda x: x.astype(str).str.upper()) # case matching as snowflake needs it in uppers\n",
    "        \n",
    "    # only considers objects at this point\n",
    "    # only considers objects and ints at this point\n",
    "    ct['col'] = np.where(ct['col']=='OBJECT', 'VARCHAR', ct['col'])\n",
    "    ct['col'] = np.where(ct['col'].str.contains('DATE'), 'DATETIME', ct['col'])\n",
    "    ct['col'] = np.where(ct['col'].str.contains('INT'), 'NUMERIC', ct['col'])\n",
    "    ct['col'] = np.where(ct['col'].str.contains('FLOAT'), 'FLOAT', ct['col'])\n",
    "    \n",
    "    # get the column dtype pair\n",
    "    l = []\n",
    "    for index, row in ct.iterrows():\n",
    "        l.append(row['index'] + ' ' + row['col'])\n",
    "    \n",
    "    string = ', '.join(l) # convert from list to a string object\n",
    "    \n",
    "    string = string.strip()\n",
    "    \n",
    "    return string"
   ]
  },
  {
   "cell_type": "code",
   "execution_count": 60,
   "metadata": {},
   "outputs": [
    {
     "name": "stderr",
     "output_type": "stream",
     "text": [
      "/var/folders/x_/94tnwtp142gf931j6d20vqk40000gq/T/ipykernel_94715/2289085378.py:5: FutureWarning: The default value of regex will change from True to False in a future version. In addition, single character regular expressions will *not* be treated as literal strings when regex=True.\n",
      "  df.columns = df.columns.str.replace(\"(\",\"\")\n",
      "/var/folders/x_/94tnwtp142gf931j6d20vqk40000gq/T/ipykernel_94715/2289085378.py:6: FutureWarning: The default value of regex will change from True to False in a future version. In addition, single character regular expressions will *not* be treated as literal strings when regex=True.\n",
      "  df.columns = df.columns.str.replace(\")\",\"\")\n"
     ]
    }
   ],
   "source": [
    "df = pd.read_csv('/Users/hamza.ahmed/Coding Projects/Data/CRKT Data/All_Knife_Data - All_Knives.csv', sep = \",\")\n",
    "\n",
    "# remove spaces in columns name\n",
    "df.columns = df.columns.str.replace(' ','_')\n",
    "df.columns = df.columns.str.replace(\"(\",\"\")\n",
    "df.columns = df.columns.str.replace(\")\",\"\")\n",
    "df.columns = df.columns.str.replace(\"/\",\"\")"
   ]
  },
  {
   "cell_type": "code",
   "execution_count": null,
   "metadata": {},
   "outputs": [],
   "source": []
  },
  {
   "cell_type": "code",
   "execution_count": 61,
   "metadata": {},
   "outputs": [
    {
     "data": {
      "text/plain": [
       "'COMPANY_NAME VARCHAR, NO_FAMILIES VARCHAR, FAMILY VARCHAR, NAME VARCHAR, PRICE VARCHAR, BLADE_LENGTH_INCHES FLOAT, OVERALL_LENGTH_INCHES VARCHAR, BLADE_THICKNESS_INCHES FLOAT, WIDTH_INCHES FLOAT, BLADE_MATERIAL2 VARCHAR, BLADE_MATERIAL_TYPE VARCHAR, BLADE_MATERIAL VARCHAR, BLADE_GRIND VARCHAR, BLADE_FINISH VARCHAR, HANDLE_MATERIAL2 VARCHAR, HANDLE_MATERIAL_TYPE VARCHAR, HANDLE_MATERIAL VARCHAR, HANDLE_COLORFINISH VARCHAR, PIVOT_ASSEMBLY VARCHAR, LOCKING_MECHANISM VARCHAR, WEIGHT VARCHAR, HANDLE_THICKNESS_INCHES VARCHAR, SHEATH_WEIGHT_OZ FLOAT, CLOSED_LENGTH VARCHAR, BLADE_EDGE VARCHAR, BLADE_SHAPE VARCHAR, BLADE_HARDNESS VARCHAR, MOLLE_COMPATIBLE VARCHAR, BLADE_STYLE VARCHAR, CLIP_TYPE VARCHAR, CLIP_POSITION VARCHAR, SHEATH_TYPE VARCHAR, USE VARCHAR, LANYARD_HOLE VARCHAR, GLASS_BREAKER VARCHAR, BACKSPACER_MATERIAL FLOAT'"
      ]
     },
     "execution_count": 61,
     "metadata": {},
     "output_type": "execute_result"
    }
   ],
   "source": [
    "COL_TYPES = get_col_types(df)\n",
    "COL_TYPES"
   ]
  },
  {
   "cell_type": "code",
   "execution_count": null,
   "metadata": {},
   "outputs": [],
   "source": []
  },
  {
   "cell_type": "code",
   "execution_count": 22,
   "metadata": {},
   "outputs": [],
   "source": [
    "Users = info[\"users\"][0][\"name\"]\n",
    "\n",
    "Password = info[\"users\"][0][\"password\"]"
   ]
  },
  {
   "cell_type": "code",
   "execution_count": 23,
   "metadata": {},
   "outputs": [],
   "source": [
    "\n",
    "\n",
    "Account = 'cp91638.us-central1.gcp'\n",
    "Warehouse = 'CRKT_DATABASE'\n",
    "Database=\"Knives_DB\"\n",
    "Schema=\"PUBLIC\"\n",
    "Role = \"ACCOUNTADMIN\"\n"
   ]
  },
  {
   "cell_type": "code",
   "execution_count": 24,
   "metadata": {},
   "outputs": [],
   "source": [
    "# set up connection\n",
    "conn = snowflake.connector.connect(\n",
    "            account = Account,\n",
    "            user = Users,\n",
    "            password = Password,\n",
    "            warehouse = Warehouse,\n",
    "            database = Database,\n",
    "            schema = Schema,\n",
    "            role = Role)    \n",
    "\n",
    "# set up cursor\n",
    "cur = conn.cursor()"
   ]
  },
  {
   "cell_type": "code",
   "execution_count": 58,
   "metadata": {},
   "outputs": [],
   "source": [
    "def create_table(table, action, col_type, df):\n",
    "    \n",
    "    '''\n",
    "        Function to create/replace and append to tables in Snowflake\n",
    "        \n",
    "        args:\n",
    "            table: name of the table to create/modify\n",
    "            action: whether do the initial create/replace or appending; key to control logic\n",
    "            col_type: string with column name associated dtype, each pair separated by a comma; comes from get_col_types() func\n",
    "            df: dataframe to load\n",
    "            \n",
    "        dependencies: function get_col_types(); helper function to get the col and dtypes to create a table\n",
    "    '''\n",
    "    \n",
    "    if action=='create_replace':\n",
    "    \n",
    "        # set up execute\n",
    "        cur.execute(\n",
    "            \"\"\" CREATE OR REPLACE TABLE \n",
    "            \"\"\" + table +\"\"\"(\"\"\" + col_type + \"\"\")\"\"\") \n",
    "\n",
    "        #prep to ensure proper case\n",
    "        df.columns = [col.upper() for col in df.columns]\n",
    "\n",
    "        # write df to table\n",
    "        write_pandas(conn, df, table.upper(), quote_identifiers = True)\n",
    "        \n",
    "    elif action=='append':\n",
    "        \n",
    "        # convert to a string list of tuples\n",
    "        df = str(list(df.itertuples(index=False, name=None)))\n",
    "        # get rid of the list elements so it is a string tuple list\n",
    "        df = df.replace('[','').replace(']','')\n",
    "        \n",
    "        # set up execute\n",
    "        cur.execute(\n",
    "            \"\"\" INSERT INTO \"\"\" + table + \"\"\"\n",
    "                VALUES \"\"\" + df + \"\"\"\n",
    "            \"\"\")  "
   ]
  },
  {
   "cell_type": "code",
   "execution_count": 62,
   "metadata": {},
   "outputs": [],
   "source": [
    "create_table('Knives_table', 'create_replace', COL_TYPES, df)"
   ]
  },
  {
   "cell_type": "code",
   "execution_count": 127,
   "metadata": {},
   "outputs": [
    {
     "data": {
      "text/plain": [
       "<snowflake.connector.cursor.SnowflakeCursor at 0x123660460>"
      ]
     },
     "execution_count": 127,
     "metadata": {},
     "output_type": "execute_result"
    }
   ],
   "source": [
    "# cs.execute('USE ROLE ACCOUNTADMIN')\n",
    "# # cs.execute('CREATE DATABASE Knives_DB')\n",
    "# cs.execute('USE DATABASE Knives_DB')\n",
    "# cs.execute('USE SCHEMA PUBLIC')"
   ]
  },
  {
   "cell_type": "code",
   "execution_count": null,
   "metadata": {},
   "outputs": [],
   "source": []
  },
  {
   "cell_type": "code",
   "execution_count": null,
   "metadata": {},
   "outputs": [],
   "source": []
  },
  {
   "cell_type": "code",
   "execution_count": null,
   "metadata": {},
   "outputs": [],
   "source": []
  },
  {
   "cell_type": "code",
   "execution_count": 31,
   "metadata": {},
   "outputs": [],
   "source": [
    "conn = snowflake.connector.connect(\n",
    "    user=users,\n",
    "    password=password,\n",
    "    account='cp91638.us-central1.gcp',\n",
    "    session_parameters={\n",
    "        'QUERY_TAG': 'EndOfMonthFinancials',\n",
    "    }\n",
    ")"
   ]
  },
  {
   "cell_type": "code",
   "execution_count": 34,
   "metadata": {},
   "outputs": [
    {
     "data": {
      "text/plain": [
       "<snowflake.connector.cursor.SnowflakeCursor at 0x11d1e3b50>"
      ]
     },
     "execution_count": 34,
     "metadata": {},
     "output_type": "execute_result"
    }
   ],
   "source": [
    "conn.cursor().execute(\"CREATE WAREHOUSE IF NOT EXISTS tiny_warehouse_mg\")\n",
    "conn.cursor().execute(\"USE WAREHOUSE tiny_warehouse_mg\")"
   ]
  },
  {
   "cell_type": "code",
   "execution_count": 35,
   "metadata": {},
   "outputs": [
    {
     "data": {
      "text/plain": [
       "<snowflake.connector.cursor.SnowflakeCursor at 0x11d1dbfa0>"
      ]
     },
     "execution_count": 35,
     "metadata": {},
     "output_type": "execute_result"
    }
   ],
   "source": [
    "conn.cursor().execute(\"CREATE DATABASE IF NOT EXISTS testdb\")\n",
    "conn.cursor().execute(\"USE DATABASE testdb\")\n",
    "\n",
    "\n"
   ]
  },
  {
   "cell_type": "code",
   "execution_count": 38,
   "metadata": {},
   "outputs": [
    {
     "data": {
      "text/plain": [
       "<snowflake.connector.cursor.SnowflakeCursor at 0x11d2636d0>"
      ]
     },
     "execution_count": 38,
     "metadata": {},
     "output_type": "execute_result"
    }
   ],
   "source": [
    "conn.cursor().execute(\"CREATE SCHEMA IF NOT EXISTS testschema\")\n",
    "conn.cursor().execute(\"USE SCHEMA testschema\")\n",
    "\n"
   ]
  },
  {
   "cell_type": "code",
   "execution_count": 39,
   "metadata": {},
   "outputs": [
    {
     "data": {
      "text/plain": [
       "<snowflake.connector.cursor.SnowflakeCursor at 0x11d517790>"
      ]
     },
     "execution_count": 39,
     "metadata": {},
     "output_type": "execute_result"
    }
   ],
   "source": [
    "conn.cursor().execute(\n",
    "    \"CREATE OR REPLACE TABLE \"\n",
    "    \"test_table(col1 integer, col2 string)\")"
   ]
  },
  {
   "cell_type": "code",
   "execution_count": 40,
   "metadata": {},
   "outputs": [
    {
     "data": {
      "text/plain": [
       "<snowflake.connector.cursor.SnowflakeCursor at 0x11d5171f0>"
      ]
     },
     "execution_count": 40,
     "metadata": {},
     "output_type": "execute_result"
    }
   ],
   "source": [
    "conn.cursor().execute(\n",
    "    \"INSERT INTO test_table(col1, col2) \"\n",
    "    \"VALUES(123, 'test string1'),(456, 'test string2')\")"
   ]
  },
  {
   "cell_type": "code",
   "execution_count": 42,
   "metadata": {},
   "outputs": [],
   "source": [
    "\n",
    "conn.close()"
   ]
  },
  {
   "cell_type": "code",
   "execution_count": null,
   "metadata": {},
   "outputs": [],
   "source": []
  }
 ],
 "metadata": {
  "interpreter": {
   "hash": "5edc29c2ed010d6458d71a83433b383a96a8cbd3efe8531bc90c4b8a5b8bcec9"
  },
  "kernelspec": {
   "display_name": "Python 3.8.9 64-bit",
   "language": "python",
   "name": "python3"
  },
  "language_info": {
   "codemirror_mode": {
    "name": "ipython",
    "version": 3
   },
   "file_extension": ".py",
   "mimetype": "text/x-python",
   "name": "python",
   "nbconvert_exporter": "python",
   "pygments_lexer": "ipython3",
   "version": "3.8.9"
  },
  "orig_nbformat": 4
 },
 "nbformat": 4,
 "nbformat_minor": 2
}
