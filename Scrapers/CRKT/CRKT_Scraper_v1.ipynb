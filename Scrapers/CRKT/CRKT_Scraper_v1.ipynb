{
 "cells": [
  {
   "cell_type": "code",
   "execution_count": 76,
   "metadata": {},
   "outputs": [],
   "source": [
    "from bs4 import BeautifulSoup as soup\n",
    "import requests\n",
    "import re\n",
    "import pandas as pd\n",
    "import time"
   ]
  },
  {
   "cell_type": "code",
   "execution_count": 77,
   "metadata": {},
   "outputs": [],
   "source": [
    "from selenium import webdriver      \n",
    "from selenium.common.exceptions import NoSuchElementException\n",
    "from selenium.webdriver.common.by import By\n",
    "from selenium.webdriver.support.ui import WebDriverWait\n",
    "from selenium.webdriver.support import expected_conditions as EC"
   ]
  },
  {
   "cell_type": "code",
   "execution_count": 78,
   "metadata": {},
   "outputs": [],
   "source": [
    "HEADER = {'User-Agent': 'Mozilla/5.0 (Windows; U; Windows NT 5.1; en-US; rv:1.9.0.7) Gecko/2009021910 Firefox/3.0.7'}\n",
    "URL = \"https://www.crkt.com/shop/whats-new.html\"\n",
    "#PROXY = {\"https\": \"https//59.110.7.190:1080\"}\n"
   ]
  },
  {
   "cell_type": "code",
   "execution_count": 79,
   "metadata": {},
   "outputs": [
    {
     "name": "stderr",
     "output_type": "stream",
     "text": [
      "/var/folders/x_/94tnwtp142gf931j6d20vqk40000gq/T/ipykernel_999/2695751596.py:3: DeprecationWarning: find_element_by_* commands are deprecated. Please use find_element() instead\n",
      "  python_button = browser.find_element_by_xpath('//*[@id=\"maincontent\"]/div[2]/div/div[2]/ol/li[31]/div/p[1]')\n"
     ]
    }
   ],
   "source": [
    "browser = webdriver.Chrome()\n",
    "browser.get(URL)\n",
    "python_button = browser.find_element_by_xpath('//*[@id=\"maincontent\"]/div[2]/div/div[2]/ol/li[31]/div/p[1]')\n",
    "python_button.click() \n"
   ]
  },
  {
   "cell_type": "code",
   "execution_count": 80,
   "metadata": {},
   "outputs": [],
   "source": [
    "Bootifulobj = soup(browser.page_source, \"lxml\")\n",
    "#Bootifulobj"
   ]
  },
  {
   "cell_type": "code",
   "execution_count": 81,
   "metadata": {},
   "outputs": [],
   "source": [
    "knife_items = Bootifulobj.find_all('div',class_= \"product-item-info\" )"
   ]
  },
  {
   "cell_type": "code",
   "execution_count": 82,
   "metadata": {},
   "outputs": [
    {
     "name": "stdout",
     "output_type": "stream",
     "text": [
      "[] [<span class=\"price\">$20.00</span>] [<p class=\"designer\">\n",
      "                                by Joe Wu, Mountain View, California                            </p>]\n"
     ]
    }
   ],
   "source": [
    "for k in knife_items:\n",
    "    title = k.find_all('',class_= \"product-item-link\" )\n",
    "    price = k.find_all('span',class_= \"price\" )\n",
    "    designer = k.find_all('p',class_= \"designer\" )\n",
    "    \n",
    "print(title, price, designer)"
   ]
  },
  {
   "cell_type": "code",
   "execution_count": 83,
   "metadata": {},
   "outputs": [
    {
     "data": {
      "text/plain": [
       "45"
      ]
     },
     "execution_count": 83,
     "metadata": {},
     "output_type": "execute_result"
    }
   ],
   "source": [
    "Price= []\n",
    "for P in Bootifulobj.findAll('span',{'class': \"price\" }):\n",
    "    #print(p.text)\n",
    "    Price.append(P.text)\n",
    "len(Price)"
   ]
  },
  {
   "cell_type": "code",
   "execution_count": 84,
   "metadata": {},
   "outputs": [
    {
     "data": {
      "text/plain": [
       "45"
      ]
     },
     "execution_count": 84,
     "metadata": {},
     "output_type": "execute_result"
    }
   ],
   "source": [
    "Title = []\n",
    "for T in Bootifulobj.findAll('strong',{'class': \"product name product-item-name\" }):\n",
    "    #print(p.text)\n",
    "    Title.append(T.text)\n",
    "len(Title)"
   ]
  },
  {
   "cell_type": "code",
   "execution_count": 63,
   "metadata": {},
   "outputs": [],
   "source": [
    "Designer = []\n",
    "for D in Bootifulobj.findAll('p',{'class': \"designer\" }):\n",
    "    #print(p.text)\n",
    "    Designer.append(D.text)\n"
   ]
  },
  {
   "cell_type": "code",
   "execution_count": 85,
   "metadata": {},
   "outputs": [],
   "source": [
    "product_links= []\n",
    "for items in knife_items:\n",
    "    for links in items.findAll('a', href = True):\n",
    "        product_links.append(URL + links['href'])\n"
   ]
  },
  {
   "cell_type": "code",
   "execution_count": 91,
   "metadata": {},
   "outputs": [],
   "source": [
    "product_desc = []\n",
    "for links in product_links:\n",
    "    r = requests.get(links, HEADER)\n",
    "    bootifulobj = soup(r.content, 'lxml')\n",
    "    Table = bootifulobj.findAll('tab;le', {'class_':'data table additional-attributes'})\n"
   ]
  },
  {
   "cell_type": "code",
   "execution_count": 57,
   "metadata": {},
   "outputs": [],
   "source": [
    "df = pd.DataFrame({'Title':Title,'Price':Price,'Designer':Designer}).to_csv('knives.csv')\n"
   ]
  },
  {
   "cell_type": "code",
   "execution_count": 93,
   "metadata": {},
   "outputs": [
    {
     "data": {
      "text/plain": [
       "'https://www.crkt.com/shop/whats-new.htmlhttps://www.crkt.com/shop/whats-new/pry-cutter-keychain-tool.html'"
      ]
     },
     "execution_count": 93,
     "metadata": {},
     "output_type": "execute_result"
    }
   ],
   "source": []
  },
  {
   "cell_type": "code",
   "execution_count": null,
   "metadata": {},
   "outputs": [],
   "source": [
    "Data = defaultdict()\n",
    "\n",
    "#for links in product_links:\n",
    "testlinks = \"https://www.civivi.com/collections/all-products/products/civivi-riffle-flipper-knife-c2024-g10-carbon-fiber-damascus\"\n",
    "HTML2 = requests.get(testlinks, HEADER)\n",
    "Booti2 = soup(HTML2.content,\"html.parser\")\n",
    "try:\n",
    "\n",
    "        Name = Booti2.find_all('h1', attrs ={'class': 'product-meta__title heading h1'})\n",
    "        Data['Product Name'].append(Name.text.replace('\\n', '').strip())\n",
    "        #Name.append(N.text.replace('\\n', '').strip())\n",
    "except:\n",
    "        Data['Product Name'].append(\"\")"
   ]
  }
 ],
 "metadata": {
  "interpreter": {
   "hash": "31f2aee4e71d21fbe5cf8b01ff0e069b9275f58929596ceb00d14d90e3e16cd6"
  },
  "kernelspec": {
   "display_name": "Python 3.8.9 64-bit",
   "name": "python3"
  },
  "language_info": {
   "codemirror_mode": {
    "name": "ipython",
    "version": 3
   },
   "file_extension": ".py",
   "mimetype": "text/x-python",
   "name": "python",
   "nbconvert_exporter": "python",
   "pygments_lexer": "ipython3",
   "version": "3.8.9"
  },
  "orig_nbformat": 4
 },
 "nbformat": 4,
 "nbformat_minor": 2
}
