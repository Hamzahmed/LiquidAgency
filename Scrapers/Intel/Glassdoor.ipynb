{
 "cells": [
  {
   "cell_type": "code",
   "execution_count": 32,
   "metadata": {},
   "outputs": [],
   "source": [
    "from bs4 import BeautifulSoup as soup\n",
    "import requests\n",
    "import re\n",
    "import pandas as pd\n",
    "from selenium import webdriver\n",
    "import html5lib\n",
    "import numpy as np\n",
    "import csv\n",
    "from collections import defaultdict\n",
    "from tabulate import tabulate\n",
    "import openpyxl\n",
    "from selenium import webdriver\n",
    "from selenium.webdriver.common.by import By\n",
    "from selenium.webdriver.support.ui import WebDriverWait\n",
    "from selenium.webdriver.support import expected_conditions as EC\n",
    "from selenium.common.exceptions import NoSuchElementException, ElementClickInterceptedException\n",
    "from selenium.webdriver.chrome.options import Options\n",
    "from selenium.webdriver.common.keys import Keys\n",
    "from selenium.webdriver.support.ui import Select\n",
    "from webdriver_manager.chrome import ChromeDriverManager\n",
    "import time"
   ]
  },
  {
   "cell_type": "code",
   "execution_count": 34,
   "metadata": {},
   "outputs": [
    {
     "name": "stderr",
     "output_type": "stream",
     "text": [
      "\n",
      "\n",
      "====== WebDriver manager ======\n",
      "Current google-chrome version is 99.0.4844\n",
      "Get LATEST chromedriver version for 99.0.4844 google-chrome\n",
      "Driver [/Users/hamza.ahmed/.wdm/drivers/chromedriver/mac64/99.0.4844.51/chromedriver] found in cache\n",
      "/var/folders/x_/94tnwtp142gf931j6d20vqk40000gq/T/ipykernel_73465/1217006791.py:3: DeprecationWarning: executable_path has been deprecated, please pass in a Service object\n",
      "  driver = webdriver.Chrome(ChromeDriverManager().install())\n",
      "/var/folders/x_/94tnwtp142gf931j6d20vqk40000gq/T/ipykernel_73465/1217006791.py:16: DeprecationWarning: find_element_by_* commands are deprecated. Please use find_element() instead\n",
      "  driver.find_element_by_xpath('//*[@id=\"JobsLandingPage\"]/div/div/div/div[2]/div/div[1]/button[2]').click()\n",
      "/var/folders/x_/94tnwtp142gf931j6d20vqk40000gq/T/ipykernel_73465/1217006791.py:18: DeprecationWarning: find_element_by_* commands are deprecated. Please use find_element() instead\n",
      "  driver.find_element_by_xpath('//*[@id=\"HardsellOverlay\"]/div/div/div/div/div[2]/div/a').click()\n"
     ]
    }
   ],
   "source": [
    "\n",
    "#Initializing the webdriver,\n",
    "\n",
    "driver = webdriver.Chrome(ChromeDriverManager().install())\n",
    "HEADER = {'User-Agent': 'Mozilla/5.0 (Windows; U; Windows NT 5.1; en-US; rv:1.9.0.7) Gecko/2009021910 Firefox/3.0.7'}\n",
    "driver.maximize_window()\n",
    "#WebDriverWait(driver, 20).until(EC.presence_of_element_located((By.ID, \"username\")))\n",
    "\n",
    "#options.add_argument('headless')\n",
    "#Change the path to where chromedriver is in your home folder.\\n\",\n",
    "#driver = webdriver.Chrome(executable_path=\"/path/to/chromedriver\", options=options)\n",
    "#driver.set_window_size(1120, 1000)\n",
    "url = \"https://www.glassdoor.com/Jobs/Intel-Corporation-Jobs-E1519.htm?filter.countryId=1\"\n",
    "\n",
    "driver.get(url)\n",
    "time.sleep(1)\n",
    "driver.find_element_by_xpath('//*[@id=\"JobsLandingPage\"]/div/div/div/div[2]/div/div[1]/button[2]').click()\n",
    "time.sleep(1)\n",
    "driver.find_element_by_xpath('//*[@id=\"HardsellOverlay\"]/div/div/div/div/div[2]/div/a').click()\n",
    "time.sleep(1)\n",
    "#username = driver.find_element_by_xpath('//*[@id=\"HardsellOverlay\"]/div/div/div/div/div[1]/div/form/div[1]').click()\n",
    "username = WebDriverWait(driver, 10).until(EC.presence_of_element_located((By.NAME, \"username\")))\n",
    "\n",
    "username.send_keys(\"poop\")\n",
    "# password.send_keys(\"YourPassword\")\n",
    "# driver.find_element_by_id(\"submit_btn\").click()\n",
    "\n",
    "# sign_in_start.click()"
   ]
  },
  {
   "cell_type": "code",
   "execution_count": 1,
   "metadata": {},
   "outputs": [],
   "source": [
    "#num_pages = 3\n",
    "url_page_lists = []\n",
    "for num_pages in range(1,4):\n",
    "    url_root = 'https://www.glassdoor.com/Jobs/Intel-Corporation-Jobs-E1519_P'+str(num_pages)+'.htm?filter.countryId=1&cursor=ACgAAYEAKAAAAAAAAAAAAAAAActAbJgAXAECAQgSBwDX0Tn6VYQtcmTz/HT+NdwBeRmHrXsxHaRVMYXPKWfT5BPGOYGiUO3blmvtlyeRWaZLAVGH0G2Zv7J+q6zC1tsimO9CzaPwSk5g17KfZpRxFpujnYKPAAA='\n",
    "    url_page_lists.append(url_root)\n",
    "\n",
    "# # List comprehension to iterate through each of those 3 pages\n",
    "# nums = [x+1 for x in range(num_pages)]\n",
    "# # Create a list of the URLs we wish to scrape by adding 'n' to the end of url_root\n",
    "# url_mains = list(map(lambda n: url_root + str(n), nums))"
   ]
  },
  {
   "cell_type": "code",
   "execution_count": 2,
   "metadata": {},
   "outputs": [
    {
     "ename": "NameError",
     "evalue": "name 'driver' is not defined",
     "output_type": "error",
     "traceback": [
      "\u001b[0;31m---------------------------------------------------------------------------\u001b[0m",
      "\u001b[0;31mNameError\u001b[0m                                 Traceback (most recent call last)",
      "\u001b[1;32m/Users/hamza.ahmed/Python Apps/Scrapers/Intel/Glassdoor.ipynb Cell 4'\u001b[0m in \u001b[0;36m<module>\u001b[0;34m\u001b[0m\n\u001b[1;32m      <a href='vscode-notebook-cell:/Users/hamza.ahmed/Python%20Apps/Scrapers/Intel/Glassdoor.ipynb#ch0000003?line=0'>1</a>\u001b[0m \u001b[39mfor\u001b[39;00m u \u001b[39min\u001b[39;00m url_page_lists:\n\u001b[0;32m----> <a href='vscode-notebook-cell:/Users/hamza.ahmed/Python%20Apps/Scrapers/Intel/Glassdoor.ipynb#ch0000003?line=1'>2</a>\u001b[0m         driver\u001b[39m.\u001b[39mget(u)\n\u001b[1;32m      <a href='vscode-notebook-cell:/Users/hamza.ahmed/Python%20Apps/Scrapers/Intel/Glassdoor.ipynb#ch0000003?line=2'>3</a>\u001b[0m         driver\u001b[39m.\u001b[39mimplicitly_wait(\u001b[39m3\u001b[39m)\n",
      "\u001b[0;31mNameError\u001b[0m: name 'driver' is not defined"
     ]
    }
   ],
   "source": [
    "for u in url_page_lists:\n",
    "        driver.get(u)\n",
    "        driver.implicitly_wait(3)\n",
    "       "
   ]
  },
  {
   "cell_type": "code",
   "execution_count": 3,
   "metadata": {},
   "outputs": [
    {
     "ename": "NameError",
     "evalue": "name 'soup' is not defined",
     "output_type": "error",
     "traceback": [
      "\u001b[0;31m---------------------------------------------------------------------------\u001b[0m",
      "\u001b[0;31mNameError\u001b[0m                                 Traceback (most recent call last)",
      "\u001b[1;32m/Users/hamza.ahmed/Python Apps/Scrapers/Intel/Glassdoor.ipynb Cell 5'\u001b[0m in \u001b[0;36m<module>\u001b[0;34m\u001b[0m\n\u001b[0;32m----> <a href='vscode-notebook-cell:/Users/hamza.ahmed/Python%20Apps/Scrapers/Intel/Glassdoor.ipynb#ch0000004?line=0'>1</a>\u001b[0m Bootifulobj \u001b[39m=\u001b[39m soup(driver\u001b[39m.\u001b[39mpage_source, \u001b[39m\"\u001b[39m\u001b[39mhtml.parser\u001b[39m\u001b[39m\"\u001b[39m)\n\u001b[1;32m      <a href='vscode-notebook-cell:/Users/hamza.ahmed/Python%20Apps/Scrapers/Intel/Glassdoor.ipynb#ch0000004?line=1'>2</a>\u001b[0m job_items \u001b[39m=\u001b[39m Bootifulobj\u001b[39m.\u001b[39mfind_all(\u001b[39m'\u001b[39m\u001b[39mli\u001b[39m\u001b[39m'\u001b[39m,class_\u001b[39m=\u001b[39m \u001b[39m\"\u001b[39m\u001b[39mJobsListStyles__newJobListItem pt-std\u001b[39m\u001b[39m\"\u001b[39m)\n",
      "\u001b[0;31mNameError\u001b[0m: name 'soup' is not defined"
     ]
    }
   ],
   "source": [
    "Bootifulobj = soup(driver.page_source, \"html.parser\")\n",
    "job_items = Bootifulobj.find_all('li',class_= \"JobsListStyles__newJobListItem pt-std\")"
   ]
  },
  {
   "cell_type": "code",
   "execution_count": null,
   "metadata": {},
   "outputs": [],
   "source": []
  },
  {
   "cell_type": "code",
   "execution_count": 105,
   "metadata": {},
   "outputs": [],
   "source": [
    "\n",
    "job_links= []\n",
    "baseurl = 'https://www.glassdoor.com'\n",
    "for items in job_items:\n",
    "    for links in items.find_all('a', {'class': \"JobDetailsStyles__jobTitle\"}, href = True, ):\n",
    "        job_links.append(baseurl + links['href'])"
   ]
  },
  {
   "cell_type": "code",
   "execution_count": 106,
   "metadata": {},
   "outputs": [],
   "source": [
    "Job_Titles= []\n",
    "for JT in Bootifulobj.findAll('a',{'class': \"JobDetailsStyles__jobTitle\" }):\n",
    "    #print(p.text)\n",
    "    Job_Titles.append(JT.text)\n"
   ]
  },
  {
   "cell_type": "code",
   "execution_count": 108,
   "metadata": {},
   "outputs": [
    {
     "data": {
      "text/plain": [
       "['Americas Customer Operations Rebates Finance Analyst',\n",
       " 'Security Researcher',\n",
       " 'Foveros Process Engineer',\n",
       " 'HR Business Partner - MSO New Mexico',\n",
       " 'Process Technology Development Engineer Day Shift',\n",
       " 'Test Research and Development Engineer',\n",
       " 'Executive Administrative Assistant',\n",
       " 'Packaging Research and Development Engineer',\n",
       " 'Corporate Security Compliance and Fraud Investigator',\n",
       " 'CSO Associate Rotational Program',\n",
       " 'ODP Manufacturing Technicians',\n",
       " 'Global Customer Success Analytics Business Analyst',\n",
       " 'Mask Manufacturing Technician',\n",
       " 'Logistics Analyst',\n",
       " 'Market Analyst',\n",
       " 'Software Engineer',\n",
       " 'HR Manager - Finance',\n",
       " 'Planning Analyst (Contract)',\n",
       " 'Information Security Engineer',\n",
       " 'Software Engineer',\n",
       " '1L Summer Associate Program',\n",
       " 'ODS Manufacturing Engineer',\n",
       " 'Senior Data Analyst',\n",
       " 'Senior Administrative Support Partner',\n",
       " 'Project Coordinator',\n",
       " 'Communications Strategist',\n",
       " 'Finance PnL and Inventory Analyst',\n",
       " 'Talent Acquisition Talent Coordinator',\n",
       " 'Basebuild Project Manager',\n",
       " 'Customer Enabling Engineer - Client Computing Group',\n",
       " 'Diversity and Inclusion Partner',\n",
       " 'Hardware Engineer',\n",
       " 'Employee Communications Strategist',\n",
       " 'Media Design Engineer',\n",
       " 'Graphics Designer - Executive Events',\n",
       " 'oneAPI Marketing Manager',\n",
       " 'Planning Analyst',\n",
       " 'HR Business Partner - Manufacturing',\n",
       " 'Packaging Research and Development Engineer',\n",
       " 'Administrative Assistant']"
      ]
     },
     "execution_count": 108,
     "metadata": {},
     "output_type": "execute_result"
    }
   ],
   "source": []
  },
  {
   "cell_type": "code",
   "execution_count": 107,
   "metadata": {},
   "outputs": [],
   "source": [
    "# jobs = []\n",
    "# while len(jobs) < 2000:#If true, should be still looking for new jobs.\n",
    "#     try:\n",
    "#         driver.find_element_by_class_name(\"selected\").click()\n",
    "#     except ElementClickInterceptedException:\n",
    "#         pass\n",
    "#     time.sleep(.1)\n",
    "#     try:\n",
    "#         driver.find_element_by_class_name(\"ModalStyle__xBtn___29PT9\").click()  #clicking to the X.\\n\",\n",
    "#     except NoSuchElementException:\n",
    "#         pass"
   ]
  },
  {
   "cell_type": "code",
   "execution_count": null,
   "metadata": {},
   "outputs": [],
   "source": []
  }
 ],
 "metadata": {
  "interpreter": {
   "hash": "31f2aee4e71d21fbe5cf8b01ff0e069b9275f58929596ceb00d14d90e3e16cd6"
  },
  "kernelspec": {
   "display_name": "Python 3.8.9 64-bit",
   "language": "python",
   "name": "python3"
  },
  "language_info": {
   "codemirror_mode": {
    "name": "ipython",
    "version": 3
   },
   "file_extension": ".py",
   "mimetype": "text/x-python",
   "name": "python",
   "nbconvert_exporter": "python",
   "pygments_lexer": "ipython3",
   "version": "3.8.9"
  },
  "orig_nbformat": 4
 },
 "nbformat": 4,
 "nbformat_minor": 2
}
